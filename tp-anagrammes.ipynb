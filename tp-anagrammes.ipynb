{
 "cells": [
  {
   "cell_type": "markdown",
   "metadata": {
    "deletable": false,
    "editable": false,
    "nbgrader": {
     "cell_type": "markdown",
     "checksum": "808e43152e9d6060101f7493c6dcc9c0",
     "grade": false,
     "grade_id": "cell-3369c04b05611014",
     "locked": true,
     "schema_version": 3,
     "solution": false,
     "task": false
    }
   },
   "source": [
    "Dans l'archive `zip` décompressée, ce notebook `tp-angrammes.ipynb` est accompagné des fichiers suivants.\n",
    "\n",
    "- `in.txt` : le roman de V. Hugo 93\n",
    "- `tp-anagrammes.html` une version html du sujet de tp avec une table des matières des questions numérotées\n"
   ]
  },
  {
   "cell_type": "markdown",
   "metadata": {
    "deletable": false,
    "editable": false,
    "nbgrader": {
     "cell_type": "markdown",
     "checksum": "827874b2b938a8285520ed93433de79b",
     "grade": false,
     "grade_id": "cell-79faa1312be53c4a",
     "locked": true,
     "schema_version": 3,
     "solution": false
    }
   },
   "source": [
    "Connaissances abordées :\n",
    "- fichier texte\n",
    "- chaine de caractères\n",
    "- anagramme\n",
    "- recherche (plus ou moins compliquées)\n",
    "- tracé matplotlib "
   ]
  },
  {
   "cell_type": "code",
   "execution_count": null,
   "metadata": {
    "deletable": false,
    "editable": false,
    "nbgrader": {
     "cell_type": "code",
     "checksum": "0f7b5655c17a26e6b300b9c8298cb747",
     "grade": false,
     "grade_id": "utf8",
     "locked": true,
     "schema_version": 3,
     "solution": false
    }
   },
   "outputs": [],
   "source": [
    "#-*- coding: utf8  -*-"
   ]
  },
  {
   "cell_type": "markdown",
   "metadata": {
    "deletable": false,
    "editable": false,
    "nbgrader": {
     "cell_type": "markdown",
     "checksum": "b2f715181c6cb7eec689f160b5e2768e",
     "grade": false,
     "grade_id": "cell-82c5bca8ce6fdb66",
     "locked": true,
     "schema_version": 3,
     "solution": false
    }
   },
   "source": [
    "## Premières exploitations d'un fichier `txt`.\n",
    "\n",
    "Le fichier `in.txt` contient le roman de V. Hugo, 93, mis en forme comme suit.\n",
    "- Caractères minuscules, sans accent et codés en UTF-8,\n",
    "- ni majuscule, ni chiffre, ni retour à la ligne, ni indentation, ni mise en forme particulière,\n",
    "- les **espaces** sont :\n",
    "    - conservés\n",
    "    - ou introduits pour remplacer la ponctuation.\n",
    "\n",
    "Ainsi, un _mot_ est défini par une chaine de caractères qui s'achève par un ou plusieurs espaces, l'espace n'étant pas un caractère du mot.\n",
    "  \n",
    "**Exemple.** \"bien lire le sujet \" contient les 4 mots : \"bien\", \"lire\", \"le\", \"sujet\"."
   ]
  },
  {
   "cell_type": "markdown",
   "metadata": {
    "deletable": false,
    "editable": false,
    "nbgrader": {
     "cell_type": "markdown",
     "checksum": "37b6dd16a803e86a8e7a2f839066af60",
     "grade": false,
     "grade_id": "cell-fa3e33fb354c443d",
     "locked": true,
     "schema_version": 3,
     "solution": false
    }
   },
   "source": [
    "### Le roman de V. Hugo contient 702903 caractères alphabétiques et espaces. \n",
    "\n",
    "Ecrire un traitement qui lit le contenu du fichier et le stocke dans une chaîne de caractères **nommée `t`**. Vérifier que la longueur de cette chaîne est 702903.\n"
   ]
  },
  {
   "cell_type": "code",
   "execution_count": null,
   "metadata": {
    "deletable": false,
    "nbgrader": {
     "cell_type": "code",
     "checksum": "07727305d3762e1cd700eb8197e9b50d",
     "grade": false,
     "grade_id": "init_t",
     "locked": false,
     "schema_version": 3,
     "solution": true
    }
   },
   "outputs": [],
   "source": [
    "# ENTRER VOTRE CODE A LA PLACE DE CES 2 LIGNES\n",
    "raise NotImplementedError()"
   ]
  },
  {
   "cell_type": "code",
   "execution_count": null,
   "metadata": {
    "deletable": false,
    "editable": false,
    "nbgrader": {
     "cell_type": "code",
     "checksum": "578de810da87e453b02b9e38d31b4f0d",
     "grade": true,
     "grade_id": "nb_caract_chck",
     "locked": true,
     "points": 1,
     "schema_version": 3,
     "solution": false
    }
   },
   "outputs": [],
   "source": []
  },
  {
   "cell_type": "markdown",
   "metadata": {
    "deletable": false,
    "editable": false,
    "nbgrader": {
     "cell_type": "markdown",
     "checksum": "8ae7585c0f2221f073dfd0b7e37c9184",
     "grade": false,
     "grade_id": "cell-c3c66f6a68ab4ad5",
     "locked": true,
     "schema_version": 3,
     "solution": false
    }
   },
   "source": [
    "### Le roman de V. Hugo contient 122305 mots.  \n",
    "Ecrire le traitement qui transforme `t` en une liste de mots **nommée `mots_du_roman`** et qui permet de vérifier que le roman de V. Hugo contient 122305 mots.  "
   ]
  },
  {
   "cell_type": "code",
   "execution_count": null,
   "metadata": {
    "deletable": false,
    "nbgrader": {
     "cell_type": "code",
     "checksum": "f715091ab99b011de01843c14cfdc012",
     "grade": false,
     "grade_id": "les_mots",
     "locked": false,
     "schema_version": 3,
     "solution": true
    }
   },
   "outputs": [],
   "source": [
    "# ENTRER VOTRE CODE A LA PLACE DE CES 2 LIGNES\n",
    "raise NotImplementedError()"
   ]
  },
  {
   "cell_type": "code",
   "execution_count": null,
   "metadata": {
    "deletable": false,
    "editable": false,
    "nbgrader": {
     "cell_type": "code",
     "checksum": "77c5e35563d83beac483011f11999a74",
     "grade": true,
     "grade_id": "nb_mots_chck",
     "locked": true,
     "points": 1,
     "schema_version": 3,
     "solution": false
    }
   },
   "outputs": [],
   "source": []
  },
  {
   "cell_type": "markdown",
   "metadata": {
    "deletable": false,
    "editable": false,
    "nbgrader": {
     "cell_type": "markdown",
     "checksum": "8179908d084e7d6c3eedb886ba505633",
     "grade": false,
     "grade_id": "cell-696bb4f411304b3d",
     "locked": true,
     "schema_version": 3,
     "solution": false
    }
   },
   "source": [
    "### Le roman de V. Hugo contient 1252 occurrences du mot `une`.\n",
    "Ecrire le traitement qui permet de vérifier que le roman de V. Hugo contient `nb_une = 1252` occurrences du mot `une`. "
   ]
  },
  {
   "cell_type": "code",
   "execution_count": null,
   "metadata": {
    "deletable": false,
    "nbgrader": {
     "cell_type": "code",
     "checksum": "e824417eb17cd31006915abf718852f2",
     "grade": false,
     "grade_id": "nb_une",
     "locked": false,
     "schema_version": 3,
     "solution": true
    }
   },
   "outputs": [],
   "source": [
    "# ENTRER VOTRE CODE A LA PLACE DE CES 2 LIGNES\n",
    "raise NotImplementedError()"
   ]
  },
  {
   "cell_type": "code",
   "execution_count": null,
   "metadata": {
    "deletable": false,
    "editable": false,
    "nbgrader": {
     "cell_type": "code",
     "checksum": "9348e454afb28d0206d511406ffbaa3d",
     "grade": true,
     "grade_id": "nb_une_chck",
     "locked": true,
     "points": 1,
     "schema_version": 3,
     "solution": false
    }
   },
   "outputs": [],
   "source": []
  },
  {
   "cell_type": "markdown",
   "metadata": {
    "deletable": false,
    "editable": false,
    "nbgrader": {
     "cell_type": "markdown",
     "checksum": "b4172efc72c82e5609b1bfd5321555eb",
     "grade": false,
     "grade_id": "cell-ff1fd104f4aa5ca9",
     "locked": true,
     "schema_version": 3,
     "solution": false
    }
   },
   "source": [
    "## Fonction : nombre d'occurrences d'un mot dans une liste de mots\n",
    "\n",
    "### `nbocc(m, mots)`\n",
    "Ecrire une fonction `nbocc(m, mots)`  qui retourne le nombre d'occurrences d'un mot `m` dans une liste de mots `mots`. Cette fonction retourne 0 si la liste `mots` est vide. "
   ]
  },
  {
   "cell_type": "code",
   "execution_count": null,
   "metadata": {
    "deletable": false,
    "nbgrader": {
     "cell_type": "code",
     "checksum": "e5497d2577e0b115e61dc15924f73142",
     "grade": false,
     "grade_id": "nbocc",
     "locked": false,
     "schema_version": 3,
     "solution": true
    }
   },
   "outputs": [],
   "source": [
    "# ENTRER VOTRE CODE A LA PLACE DE CES 2 LIGNES\n",
    "raise NotImplementedError()"
   ]
  },
  {
   "cell_type": "code",
   "execution_count": null,
   "metadata": {
    "deletable": false,
    "editable": false,
    "nbgrader": {
     "cell_type": "code",
     "checksum": "3227b64dab3625dfba342bfa862c01a9",
     "grade": true,
     "grade_id": "nbocc_chck",
     "locked": true,
     "points": 1,
     "schema_version": 3,
     "solution": false
    }
   },
   "outputs": [],
   "source": []
  },
  {
   "cell_type": "markdown",
   "metadata": {
    "deletable": false,
    "editable": false,
    "nbgrader": {
     "cell_type": "markdown",
     "checksum": "d5d69e38eff71652201e1ff097de39f4",
     "grade": false,
     "grade_id": "cell-01e18091e2f17beb",
     "locked": true,
     "schema_version": 3,
     "solution": false
    }
   },
   "source": [
    "### Le roman de V. Hugo contient 1252  `une` , 7  `nue` et 1 `crane`.\n",
    "Avec `nbocc()` , vérifier que le roman de V. Hugo contient 1252 occurrences du mot `une`, 7 du mot `nue` et 1 de `crane`. "
   ]
  },
  {
   "cell_type": "code",
   "execution_count": null,
   "metadata": {
    "deletable": false,
    "nbgrader": {
     "cell_type": "code",
     "checksum": "9026ff16d231d8909a65d8b1d8aed5a0",
     "grade": false,
     "grade_id": "nbocc_une",
     "locked": false,
     "schema_version": 3,
     "solution": true
    }
   },
   "outputs": [],
   "source": [
    "# ENTRER VOTRE CODE A LA PLACE DE CES 2 LIGNES\n",
    "raise NotImplementedError()"
   ]
  },
  {
   "cell_type": "code",
   "execution_count": null,
   "metadata": {
    "deletable": false,
    "editable": false,
    "nbgrader": {
     "cell_type": "code",
     "checksum": "d55a5a2e39f36d5f04f663e048c3deed",
     "grade": true,
     "grade_id": "nbocc_une_chck",
     "locked": true,
     "points": 1,
     "schema_version": 3,
     "solution": false
    }
   },
   "outputs": [],
   "source": []
  },
  {
   "cell_type": "markdown",
   "metadata": {
    "deletable": false,
    "editable": false,
    "nbgrader": {
     "cell_type": "markdown",
     "checksum": "dc41f5a98c54e39563c0413b637eb7a2",
     "grade": false,
     "grade_id": "cell-a27b735efa4b023e",
     "locked": true,
     "schema_version": 3,
     "solution": false
    }
   },
   "source": [
    "## Ecriture dans un fichier résultat\n",
    "\n",
    "Ecrire le traitement qui génère le fichier résultat **nommé `out.txt`** suivant.  \n",
    "**Attention** de respecter le format d'écriture demandé et en particulier la distinction singulier/pluriel selon le nombre d'occurrences du mot concerné.  \n",
    "```python\n",
    "Dans le roman de V. Hugo, je compte 1252 occurrences du mot 'une' \n",
    "Dans le roman de V. Hugo, je compte 7 occurrences du mot 'nue' \n",
    "Dans le roman de V. Hugo, je compte 1 occurrence du mot 'imaginer' \n",
    "Dans le roman de V. Hugo, je compte 0 occurrence du mot 'migraine' \n",
    "Dans le roman de V. Hugo, je compte 0 occurrence du mot 'germinai' \n",
    "Dans le roman de V. Hugo, je compte 28 occurrences du mot 'demain' \n",
    "Dans le roman de V. Hugo, je compte 0 occurrence du mot 'vacances' \n",
    "```"
   ]
  },
  {
   "cell_type": "code",
   "execution_count": null,
   "metadata": {
    "deletable": false,
    "nbgrader": {
     "cell_type": "code",
     "checksum": "24b7d760b5758f1870552560abf31896",
     "grade": false,
     "grade_id": "out_txt",
     "locked": false,
     "schema_version": 3,
     "solution": true
    }
   },
   "outputs": [],
   "source": [
    "# ENTRER VOTRE CODE A LA PLACE DE CES 2 LIGNES\n",
    "raise NotImplementedError()"
   ]
  },
  {
   "cell_type": "code",
   "execution_count": null,
   "metadata": {
    "deletable": false,
    "editable": false,
    "nbgrader": {
     "cell_type": "code",
     "checksum": "28dae71dcac969f3b2d5fe57392a6b2e",
     "grade": true,
     "grade_id": "outtxt_chck",
     "locked": true,
     "points": 2,
     "schema_version": 3,
     "solution": false
    }
   },
   "outputs": [],
   "source": []
  },
  {
   "cell_type": "markdown",
   "metadata": {
    "deletable": false,
    "editable": false,
    "nbgrader": {
     "cell_type": "markdown",
     "checksum": "871cabdc6d2679ac83b659dae6a9dbc7",
     "grade": false,
     "grade_id": "cell-1795e3665ab32d53",
     "locked": true,
     "schema_version": 3,
     "solution": false
    }
   },
   "source": [
    "## Anagramme (nom féminin)"
   ]
  },
  {
   "cell_type": "markdown",
   "metadata": {
    "deletable": false,
    "editable": false,
    "nbgrader": {
     "cell_type": "markdown",
     "checksum": "2520e89e1b2c30fbcd9ee2a098197198",
     "grade": false,
     "grade_id": "cell-5af2a4d42ba45968",
     "locked": true,
     "schema_version": 3,
     "solution": false
    }
   },
   "source": [
    "_Une anagramme_ est un mot obtenu par la permutation des lettres d'un mot donné (et qui a du sens dans la langue concernée).   \n",
    "Par exemple `nue` est une anagramme de `une`.  \n",
    "\n",
    "Un mot peut donner _plusieurs_ anagrammes. \n",
    "On parle alors d'_anagrammes multiples_.   \n",
    "Par exemple : `imaginer`, `migraine`, `germinai` sont 3 anagrammes d'un même mot.    \n",
    "Il peut en avoir beaucoup plus : wikipedia indique 17 anagrammes de `crane`. "
   ]
  },
  {
   "cell_type": "markdown",
   "metadata": {
    "deletable": false,
    "editable": false,
    "nbgrader": {
     "cell_type": "markdown",
     "checksum": "dc2de977893a2c1f4c9e6d926fa4572e",
     "grade": false,
     "grade_id": "cell-0fe18cde04400aaa",
     "locked": true,
     "schema_version": 3,
     "solution": false
    }
   },
   "source": [
    "### Fonction   `est_anag(m1, m2)`\n",
    "\n",
    "Ecrire la fonction `est_anag(m1, m2)` qui vérifie si les mots `m1`et `m2` sont des anagrammes (d'un même \n",
    "mot).  \n",
    "\n",
    "**égalité $\\neq$ anagramme** : on convient qu'un mot _n'est pas_ l'anagramme de lui-même. "
   ]
  },
  {
   "cell_type": "code",
   "execution_count": null,
   "metadata": {
    "deletable": false,
    "nbgrader": {
     "cell_type": "code",
     "checksum": "c793573fddb7a1607534a796f687eea8",
     "grade": false,
     "grade_id": "est_anag_forme",
     "locked": false,
     "schema_version": 3,
     "solution": true
    }
   },
   "outputs": [],
   "source": [
    "# ENTRER VOTRE CODE A LA PLACE DE CES 2 LIGNES\n",
    "raise NotImplementedError()"
   ]
  },
  {
   "cell_type": "code",
   "execution_count": null,
   "metadata": {
    "deletable": false,
    "editable": false,
    "nbgrader": {
     "cell_type": "code",
     "checksum": "a4aaf8cf77c5db3f8dded26924e1f1d0",
     "grade": true,
     "grade_id": "est_anag_chck",
     "locked": true,
     "points": 1,
     "schema_version": 3,
     "solution": false
    }
   },
   "outputs": [],
   "source": []
  },
  {
   "cell_type": "markdown",
   "metadata": {
    "deletable": false,
    "editable": false,
    "nbgrader": {
     "cell_type": "markdown",
     "checksum": "ec726288c1526e78373c30347b183726",
     "grade": false,
     "grade_id": "cell-9dc31fbb73f7653d",
     "locked": true,
     "schema_version": 3,
     "solution": false
    }
   },
   "source": [
    "### `crane`et ses anagrammes dans le roman de V. Hugo\n",
    "\n",
    "Ecrire le traitement qui identifie _toutes les occurrences_ des anagrammes de `crane` dans le roman de V. Hugo et les stocke dans la liste **nommée `ana_crane`**.  \n",
    "Cette liste ne comporte _pas_ nécessairement une seule occurrence de chaque mot ou anagrammes.  \n",
    "Afficher cette liste.\n",
    "\n",
    "On identifie 7 occurrences d'anagrammes -- certains apparaissant plusieurs fois.  \n",
    "En ajoutant `crane`, on a donc 8 occurrences d'anagrammes (avec répétitions) du mot `crane`."
   ]
  },
  {
   "cell_type": "code",
   "execution_count": null,
   "metadata": {
    "deletable": false,
    "nbgrader": {
     "cell_type": "code",
     "checksum": "3ca9c17bf6141c6e29d5be461aa82b87",
     "grade": false,
     "grade_id": "crane",
     "locked": false,
     "schema_version": 3,
     "solution": true
    }
   },
   "outputs": [],
   "source": [
    "ana_crane = []\n",
    "\n",
    "# ENTRER VOTRE CODE A LA PLACE DE CES 2 LIGNES\n",
    "raise NotImplementedError()"
   ]
  },
  {
   "cell_type": "code",
   "execution_count": null,
   "metadata": {
    "deletable": false,
    "editable": false,
    "nbgrader": {
     "cell_type": "code",
     "checksum": "78e8dfc1813546237a918ddfab216d00",
     "grade": true,
     "grade_id": "crane_chck",
     "locked": true,
     "points": 1,
     "schema_version": 3,
     "solution": false
    }
   },
   "outputs": [],
   "source": []
  },
  {
   "cell_type": "markdown",
   "metadata": {
    "deletable": false,
    "editable": false,
    "nbgrader": {
     "cell_type": "markdown",
     "checksum": "94e70b0f4a2ae32efaa069eba2bf37da",
     "grade": false,
     "grade_id": "cell-0cc46d38192e4cd3",
     "locked": true,
     "schema_version": 3,
     "solution": false
    }
   },
   "source": [
    "## Estimations expérimentales et tracés `matplotlib`\n",
    "\n",
    "On va chercher maintenant tous les anagrammes parmi les `nb` premiers mots du roman V. Hugo.   \n",
    "**On se limite aux anagrammes avec 3 lettres et plus.**  \n",
    "\n",
    "**Algorithme.** Les 8 occurrences d'anagrammes du mot `crane` de la question précédente incluent de nombreuses répétitions : il y a moins d'anagrammes _différentes_ de `crane` que les 8 occurrences identifiées.\n",
    "Le décompte d'anagrammes différentes nécessite d'éviter de compter : \n",
    "1. les répétitions du \"mot de base\", _i.e._ celui dont on cherche les anagrammes, comme `crane` dans l'exemple précédent,  \n",
    "2. et les répétitions de chacune de ses anagrammes (_a priori_ inconnues avant de commenecre l'exploration).   \n",
    "\n",
    "On propose d'appliquer l'algorithme suivant qui règle le premier cas : pas de décompte des répétitions du \"mot de base\". \n",
    "Cet algorithme pourra être ensuite amélioré pour régler le second cas.\n",
    "Ce qui n'est pas demandé ici.\n",
    "**Ainsi merci de mettre en oeuvre l'algorithme suivant :**    \n",
    "- On parcourt les `nb` premiers mots de `mots_du_roman` autant de fois que nécessaire.\n",
    "- On décompte les anagrammes de ces `nb` mots\n",
    "- Les répétitions d'un \"mot de base\" sont remplacées par le mot vide `''` dans la liste de mots `mots_du_roman`\n",
    "    - Ainsi, le \"mot de base\" ne sera pas à nouveau examiné lors des parcours ultérieurs.\n",
    "- On ajoute 1 au décompte des anagrammes dès la première occurrence d'une anagramme du \"mot de base\" (on rappelle qu'une anagramme est différente du \"mot de base\").  \n",
    "    - Les anagrammes du \"mot de base\" et leurs éventuelles répétitions seront comptabilisés autant de fois qu'ils apparaissent (comme pour `crane`).\n",
    "\n",
    "**Attention** : Cet algorithme modifie `mots_du_roman`. Il est conseillé de sauvegarder (ou de restaurer) la liste `mots_du_roman` pour les traitements suivants.\n",
    "\n",
    "Pour évaluer le nombre d'anagrammes présents et le temps nécessaire pour les identifier, on fait progressivement varier `nb` comme suit :"
   ]
  },
  {
   "cell_type": "code",
   "execution_count": null,
   "metadata": {
    "deletable": false,
    "editable": false,
    "nbgrader": {
     "cell_type": "code",
     "checksum": "0367bb460a2a905a88026026106601ac",
     "grade": false,
     "grade_id": "nbs",
     "locked": true,
     "schema_version": 3,
     "solution": false
    }
   },
   "outputs": [],
   "source": [
    "nbs = [500*i for i in range(1,10)]"
   ]
  },
  {
   "cell_type": "markdown",
   "metadata": {
    "deletable": false,
    "editable": false,
    "nbgrader": {
     "cell_type": "markdown",
     "checksum": "0514956dc19165dcf981d550e1b783cd",
     "grade": false,
     "grade_id": "cell-33ebfa426faf7d02",
     "locked": true,
     "schema_version": 3,
     "solution": false
    }
   },
   "source": [
    "### Nombre d'anagrammes\n",
    "\n",
    "Pour les valeurs de `nb` définies ci-dessus, calculer le nombre d'anagrammes présents dans les `nb` premiers mots du roman. Ces nombres seront stokés dans une liste **nommée nbanag** (cf. question suivante). \n",
    "\n",
    "**Conseil.** Valider son traitement avant de le lancer sur toutes les valeurs de `nb`."
   ]
  },
  {
   "cell_type": "code",
   "execution_count": null,
   "metadata": {
    "deletable": false,
    "nbgrader": {
     "cell_type": "code",
     "checksum": "03914ca56ed9cc258d0a9b5892e67fe8",
     "grade": false,
     "grade_id": "nbanag",
     "locked": false,
     "schema_version": 3,
     "solution": true
    }
   },
   "outputs": [],
   "source": [
    "# ENTRER VOTRE CODE A LA PLACE DE CES 2 LIGNES\n",
    "raise NotImplementedError()"
   ]
  },
  {
   "cell_type": "code",
   "execution_count": null,
   "metadata": {
    "deletable": false,
    "editable": false,
    "nbgrader": {
     "cell_type": "code",
     "checksum": "3a9aa580e14aeec9aefff2d59f210c9d",
     "grade": true,
     "grade_id": "nbanag_chck",
     "locked": true,
     "points": 2,
     "schema_version": 3,
     "solution": false
    }
   },
   "outputs": [],
   "source": []
  },
  {
   "cell_type": "markdown",
   "metadata": {
    "deletable": false,
    "editable": false,
    "nbgrader": {
     "cell_type": "markdown",
     "checksum": "5ae5eb035973193428b1ff8d06ef4380",
     "grade": false,
     "grade_id": "cell-c0037c26351b0693",
     "locked": true,
     "schema_version": 3,
     "solution": false
    }
   },
   "source": [
    "### Tracer \n",
    "Avec `matplotlib`, tracer ce nombre d'anagrammes selon l'évolution des valeurs `nb`"
   ]
  },
  {
   "cell_type": "code",
   "execution_count": null,
   "metadata": {
    "deletable": false,
    "editable": false,
    "nbgrader": {
     "cell_type": "code",
     "checksum": "c0fd08aaff8a02c17a797d13b5ee05ba",
     "grade": false,
     "grade_id": "import_inline_matplotlib",
     "locked": true,
     "schema_version": 3,
     "solution": false
    }
   },
   "outputs": [],
   "source": [
    "# exécuter cette cellule pour utiliser matplotlib \n",
    "# et obtenir ses affichages dans le notebook!\n",
    "import matplotlib.pyplot as plt\n",
    "%matplotlib inline"
   ]
  },
  {
   "cell_type": "code",
   "execution_count": null,
   "metadata": {
    "deletable": false,
    "nbgrader": {
     "cell_type": "code",
     "checksum": "a6698f68d8658a96befba96c4fe35dab",
     "grade": true,
     "grade_id": "plot_nbanag",
     "locked": false,
     "points": 1,
     "schema_version": 3,
     "solution": true
    }
   },
   "outputs": [],
   "source": [
    "# ENTRER VOTRE CODE A LA PLACE DE CES 2 LIGNES\n",
    "raise NotImplementedError()"
   ]
  },
  {
   "cell_type": "markdown",
   "metadata": {
    "deletable": false,
    "editable": false,
    "nbgrader": {
     "cell_type": "markdown",
     "checksum": "a7cc53fde4c93b486e116fa64204231c",
     "grade": false,
     "grade_id": "cell-a1e6e20ad0134613",
     "locked": true,
     "schema_version": 3,
     "solution": false
    }
   },
   "source": [
    "### Temps pour les identifier\n",
    "\n",
    "####  Mesurer.\n",
    "Reprendre le traitement précédent et mesurer le temps nécessaire pour chacune des valeurs de `nb`.  \n",
    "La mesure du temps s'effectuera avec  `time.perf_counter( )` avec deux échantillons pour chaque mesure.\n",
    "\n",
    "**Conseil.** Valider son traitement avant de le lancer sur toutes les valeurs de `nb`. L'exécution dure environ 1 minute."
   ]
  },
  {
   "cell_type": "code",
   "execution_count": null,
   "metadata": {
    "deletable": false,
    "nbgrader": {
     "cell_type": "code",
     "checksum": "48628c08df42e9714697f4bd8a1941b9",
     "grade": true,
     "grade_id": "mesure_time",
     "locked": false,
     "points": 2,
     "schema_version": 3,
     "solution": true
    }
   },
   "outputs": [],
   "source": [
    "# ENTRER VOTRE CODE A LA PLACE DE CES 2 LIGNES\n",
    "raise NotImplementedError()"
   ]
  },
  {
   "cell_type": "markdown",
   "metadata": {
    "deletable": false,
    "editable": false,
    "nbgrader": {
     "cell_type": "markdown",
     "checksum": "6ecf78952a4bb7326472884d79b74ca3",
     "grade": false,
     "grade_id": "cell-46b3ca2430a035bc",
     "locked": true,
     "schema_version": 3,
     "solution": false
    }
   },
   "source": [
    "#### Tracer\n",
    "Sur ma machine j'obtiens **par exemple** les 2 échantillons de mesures suivants pour les 9 valeurs `nb`définies par `nbs`.\n",
    "\n",
    "[[0.10329148601158522, 0.2810186949791387, 0.600694400985958, 0.995439638994867, 1.5001565699931234, 2.0982943740091287, 2.737219622998964, 3.4678377969830763, 4.392170573992189],\n",
    "\n",
    "[0.07615800001076423, 0.27753799699712545, 0.5583265110035427, 0.8780915499955881, 1.3232094729901291, 1.825117009022506, 2.44164374700631, 3.0988504590059165, 3.952131936006481]]\n",
    "  \n",
    "Avec `matplotlib`, tracer ces mesures selon l'évolution des valeurs `nb`."
   ]
  },
  {
   "cell_type": "code",
   "execution_count": null,
   "metadata": {
    "deletable": false,
    "nbgrader": {
     "cell_type": "code",
     "checksum": "80f3584e1fa1f68c5ed730fcfe26dd70",
     "grade": true,
     "grade_id": "plot_time",
     "locked": false,
     "points": 1,
     "schema_version": 3,
     "solution": true
    }
   },
   "outputs": [],
   "source": [
    "# ENTRER VOTRE CODE A LA PLACE DE CES 2 LIGNES\n",
    "raise NotImplementedError()"
   ]
  },
  {
   "cell_type": "markdown",
   "metadata": {
    "deletable": false,
    "editable": false,
    "nbgrader": {
     "cell_type": "markdown",
     "checksum": "bfb35cb4f8c64927d897be7ccce9f899",
     "grade": false,
     "grade_id": "cell-47bf3bcf0b502706",
     "locked": true,
     "schema_version": 3,
     "solution": false
    }
   },
   "source": [
    "## Anagrammes différentes\n",
    "\n",
    "Dans le roman de V. Hugo, on souhaite maintenant :\n",
    "- identifier et compter les anagrammes différentes \n",
    "- ainsi que tous les anagrammes du même ensemble de lettres.  \n",
    "\n",
    "On se limite toujours **aux anagrammes avec 3 lettres et plus**.\n",
    "\n",
    "**Important.** Les traitements des questions suivantes sur les anagrammes _différentes_ n'utiliseront pas les résultats (ni les traitements) des questions précédentes sur les anagrammes _avec répétitions_ (il ne s'agit pas d'éliminer les répétitions des structures construites précédemment).  "
   ]
  },
  {
   "cell_type": "markdown",
   "metadata": {
    "deletable": false,
    "editable": false,
    "nbgrader": {
     "cell_type": "markdown",
     "checksum": "f52a9ee1282b5692bffc0decdbefb515",
     "grade": false,
     "grade_id": "cell-75f34524899e4492",
     "locked": true,
     "schema_version": 3,
     "solution": false
    }
   },
   "source": [
    "### Liste de listes\n",
    "\n",
    "#### `l_anag`\n",
    "\n",
    "Coder le traitement qui définit une liste, **nommée `l_anag`**, adaptée au stockage des anagrammes identifiées dans `nb` mots.  \n",
    "Cette liste contiendra _les listes_ de toutes les anagrammes **différentes** d'un même mot  -- le mot étant lui-même dans cette liste. "
   ]
  },
  {
   "cell_type": "code",
   "execution_count": null,
   "metadata": {
    "deletable": false,
    "editable": false,
    "nbgrader": {
     "cell_type": "code",
     "checksum": "29353c36c20323a5284bad14719670c4",
     "grade": false,
     "grade_id": "liste_test",
     "locked": true,
     "schema_version": 3,
     "solution": false
    }
   },
   "outputs": [],
   "source": [
    "test = ['marino', 'ecran', 'ecran', 'romina', 'crane', 'romani' , 'mirano', 'marino',  'crane',  'romina']"
   ]
  },
  {
   "cell_type": "markdown",
   "metadata": {
    "deletable": false,
    "editable": false,
    "nbgrader": {
     "cell_type": "markdown",
     "checksum": "41f3ef0afb0f05fa1dc45a7a23c944a1",
     "grade": false,
     "grade_id": "cell-e9bb161406280900",
     "locked": true,
     "schema_version": 3,
     "solution": false
    }
   },
   "source": [
    "Pour les `nb = 11` mots de la liste de mots `test` définie ci-dessus, on obtient :  \n",
    "`l_anag = [['marino', 'romina', 'romani', 'mirano'], ['ecran', 'crane']`  \n",
    "qui contient :\n",
    "- une première liste de 4 anagrammes différentes de `marino`, et   \n",
    "- une seconde liste de 2 anagrammes différentes de `crane`.   "
   ]
  },
  {
   "cell_type": "code",
   "execution_count": null,
   "metadata": {
    "deletable": false,
    "nbgrader": {
     "cell_type": "code",
     "checksum": "550c7b4897990d1e7271ec89bfe98668",
     "grade": false,
     "grade_id": "l_anag",
     "locked": false,
     "schema_version": 3,
     "solution": true
    }
   },
   "outputs": [],
   "source": [
    "# ENTRER VOTRE CODE A LA PLACE DE CES 2 LIGNES\n",
    "raise NotImplementedError()"
   ]
  },
  {
   "cell_type": "code",
   "execution_count": null,
   "metadata": {
    "deletable": false,
    "editable": false,
    "nbgrader": {
     "cell_type": "code",
     "checksum": "c89879bb15b546113525a248a2e128af",
     "grade": true,
     "grade_id": "l_anag_chck",
     "locked": true,
     "points": 2,
     "schema_version": 3,
     "solution": false
    }
   },
   "outputs": [],
   "source": []
  },
  {
   "cell_type": "markdown",
   "metadata": {
    "deletable": false,
    "editable": false,
    "nbgrader": {
     "cell_type": "markdown",
     "checksum": "814e4db3b062ae2756f21e909c770025",
     "grade": false,
     "grade_id": "cell-2e72a37b3206ebad",
     "locked": true,
     "schema_version": 3,
     "solution": false
    }
   },
   "source": [
    "#### `l_anag93`\n",
    "\n",
    "Effectuer le même traitement avec une liste, **nommée `l_anag93`**, adaptée au stockage des anagrammes identifiées dans les `nb = 5000` premiers mots du roman de V. Hugo.\n",
    "Comme précédemment, cette liste donnera (la liste de) toutes les anagrammes d'un même groupe de lettres. \n",
    "\n",
    "Vérifier qu'on identifie 13 listes d'anagrammes, toutes de longueur égale à 2.      "
   ]
  },
  {
   "cell_type": "code",
   "execution_count": null,
   "metadata": {
    "deletable": false,
    "nbgrader": {
     "cell_type": "code",
     "checksum": "5795e98a541e6af336254200e4e703bd",
     "grade": false,
     "grade_id": "l_anag93",
     "locked": false,
     "schema_version": 3,
     "solution": true
    }
   },
   "outputs": [],
   "source": [
    "# ENTRER VOTRE CODE A LA PLACE DE CES 2 LIGNES\n",
    "raise NotImplementedError()"
   ]
  },
  {
   "cell_type": "code",
   "execution_count": null,
   "metadata": {
    "deletable": false,
    "editable": false,
    "nbgrader": {
     "cell_type": "code",
     "checksum": "3da6239f66f98cd60293fcc04cb2b3ce",
     "grade": true,
     "grade_id": "l_anag93_chck",
     "locked": true,
     "points": 2,
     "schema_version": 3,
     "solution": false
    }
   },
   "outputs": [],
   "source": []
  },
  {
   "cell_type": "markdown",
   "metadata": {
    "deletable": false,
    "editable": false,
    "nbgrader": {
     "cell_type": "markdown",
     "checksum": "2c5d7626c41eadc650cb2f6dd6eee09b",
     "grade": false,
     "grade_id": "cell-332d25cd79a58970",
     "locked": true,
     "schema_version": 3,
     "solution": false
    }
   },
   "source": [
    "### Dictionnaire\n",
    "\n",
    "#### ($\\star$) `d_anag`\n",
    "Introduire un dictionnaire, **nommé `d_anag`** adapté au stockage des anagrammes identifiés dans `nb` mots.  \n",
    "- Chaque entrée (chaque valeur) du dictionnaire donnera une anagramme (unique) de sa clé. \n",
    "- Les anagrammes multiples seront gérées comme suit : \n",
    "    - `n` anagrammes du même mot donneront `n` entrées du dictionnaire\n",
    "    - ces `n` anagrammes définissent une liste circulaire :\n",
    "        - exemple pour 4 anagrammes `a0,a1,a2,a3` d'un même mot : `{a0:a1, a1:a2, a2:a3, a3:a0}`"
   ]
  },
  {
   "cell_type": "markdown",
   "metadata": {
    "deletable": false,
    "editable": false,
    "nbgrader": {
     "cell_type": "markdown",
     "checksum": "5c7352e18f698a29b7c8beaf6d60e805",
     "grade": false,
     "grade_id": "cell-0d89bba6a311ec24",
     "locked": true,
     "schema_version": 3,
     "solution": false
    }
   },
   "source": [
    "**Autre exemple.** \n",
    "Pour les `nb = 11` mots de `test`, on obtient le dictionnaire suivant à 6 entrées (ordre éventuellement non significatif) :  \n",
    "`{'marino': 'romina', 'romina': 'romani', 'romani': 'mirano', 'mirano': 'marino', 'ecran': 'crane', 'crane': 'ecran'}`"
   ]
  },
  {
   "cell_type": "code",
   "execution_count": null,
   "metadata": {
    "deletable": false,
    "nbgrader": {
     "cell_type": "code",
     "checksum": "ad2f37d08b221559d9cffdc5f420311b",
     "grade": false,
     "grade_id": "d_anag",
     "locked": false,
     "schema_version": 3,
     "solution": true
    }
   },
   "outputs": [],
   "source": [
    "# ENTRER VOTRE CODE A LA PLACE DE CES 2 LIGNES\n",
    "raise NotImplementedError()"
   ]
  },
  {
   "cell_type": "code",
   "execution_count": null,
   "metadata": {
    "deletable": false,
    "editable": false,
    "nbgrader": {
     "cell_type": "code",
     "checksum": "719b9afcacee10aee3a1455631890a2f",
     "grade": true,
     "grade_id": "d_anag_chck",
     "locked": true,
     "points": 3,
     "schema_version": 3,
     "solution": false
    }
   },
   "outputs": [],
   "source": []
  },
  {
   "cell_type": "markdown",
   "metadata": {
    "deletable": false,
    "editable": false,
    "nbgrader": {
     "cell_type": "markdown",
     "checksum": "ae7834447457bdb570c6d4947229060e",
     "grade": false,
     "grade_id": "cell-89660583a6e08c34",
     "locked": true,
     "schema_version": 3,
     "solution": false
    }
   },
   "source": [
    "#### `d_anag93`\n",
    "Effectuer le même traitement pour obtenir le dictionnaire, **nommé `d_anag93`**, des anagrammes identifiés dans les `nb = 5000` premiers mots du roman de V. Hugo.\n",
    "\n",
    "Vérifier qu'on obtient un dictionnaire à 26 entrées (ce qui cohérent avec le décompte sous forme de liste de listes).   "
   ]
  },
  {
   "cell_type": "code",
   "execution_count": null,
   "metadata": {
    "deletable": false,
    "nbgrader": {
     "cell_type": "code",
     "checksum": "d948eedf7ec0b7aabe89dcde7510857c",
     "grade": false,
     "grade_id": "d_anag93",
     "locked": false,
     "schema_version": 3,
     "solution": true
    }
   },
   "outputs": [],
   "source": [
    "# ENTRER VOTRE CODE A LA PLACE DE CES 2 LIGNES\n",
    "raise NotImplementedError()"
   ]
  },
  {
   "cell_type": "code",
   "execution_count": null,
   "metadata": {
    "deletable": false,
    "editable": false,
    "nbgrader": {
     "cell_type": "code",
     "checksum": "e5768ba04e6fe412c1ee09bd72777867",
     "grade": true,
     "grade_id": "cell-c228f8e7890918a5",
     "locked": true,
     "points": 1,
     "schema_version": 3,
     "solution": false
    }
   },
   "outputs": [],
   "source": []
  },
  {
   "cell_type": "markdown",
   "metadata": {
    "deletable": false,
    "editable": false,
    "nbgrader": {
     "cell_type": "markdown",
     "checksum": "2eaeb5543326694199eb0c21b20effff",
     "grade": false,
     "grade_id": "cell-fdb89f80a52e25af",
     "locked": true,
     "schema_version": 3,
     "solution": false
    }
   },
   "source": [
    "## 3 anagrammes \n",
    "\n",
    "Effectuer le traitement avec une liste de listes, **nommée `l3_anag93`** pour identifier un ensemble de 3 anagrammes différentes d'un même mot extrait du roman de V. Hugo. Afficher ces 3 anagrammes.\n",
    "\n",
    "**Attention.** Ce traitement prend quelques minutes."
   ]
  },
  {
   "cell_type": "code",
   "execution_count": null,
   "metadata": {
    "deletable": false,
    "nbgrader": {
     "cell_type": "code",
     "checksum": "65c617f933c095061cbee12ec4b13bbe",
     "grade": false,
     "grade_id": "l3_anag",
     "locked": false,
     "schema_version": 3,
     "solution": true
    }
   },
   "outputs": [],
   "source": [
    "# ENTRER VOTRE CODE A LA PLACE DE CES 2 LIGNES\n",
    "raise NotImplementedError()"
   ]
  },
  {
   "cell_type": "code",
   "execution_count": null,
   "metadata": {
    "deletable": false,
    "editable": false,
    "nbgrader": {
     "cell_type": "code",
     "checksum": "494014bfa847fb7053829767a18a3ec9",
     "grade": true,
     "grade_id": "l3_anag_chck",
     "locked": true,
     "points": 2,
     "schema_version": 3,
     "solution": false
    }
   },
   "outputs": [],
   "source": []
  },
  {
   "cell_type": "markdown",
   "metadata": {
    "deletable": false,
    "editable": false,
    "nbgrader": {
     "cell_type": "markdown",
     "checksum": "28dda66f1cf083a40985d8f0b87b0033",
     "grade": false,
     "grade_id": "timing_tot",
     "locked": true,
     "schema_version": 3,
     "solution": false
    }
   },
   "source": [
    "**Remarque finale.** Sur ma machine, l'exécution complète de ce notebook prend 2min 30sec (algorithmes non optimisés). "
   ]
  }
 ],
 "metadata": {
  "kernelspec": {
   "display_name": "Python 3 (ipykernel)",
   "language": "python",
   "name": "python3"
  },
  "language_info": {
   "codemirror_mode": {
    "name": "ipython",
    "version": 3
   },
   "file_extension": ".py",
   "mimetype": "text/x-python",
   "name": "python",
   "nbconvert_exporter": "python",
   "pygments_lexer": "ipython3",
   "version": "3.9.6"
  },
  "latex_envs": {
   "LaTeX_envs_menu_present": true,
   "autoclose": false,
   "autocomplete": true,
   "bibliofile": "biblio.bib",
   "cite_by": "apalike",
   "current_citInitial": 1,
   "eqLabelWithNumbers": true,
   "eqNumInitial": 1,
   "hotkeys": {
    "equation": "Ctrl-E",
    "itemize": "Ctrl-I"
   },
   "labels_anchors": false,
   "latex_user_defs": false,
   "report_style_numbering": true,
   "user_envs_cfg": false
  },
  "toc": {
   "nav_menu": {},
   "number_sections": true,
   "sideBar": true,
   "skip_h1_title": true,
   "title_cell": "Table des matieres",
   "title_sidebar": "TdM",
   "toc_cell": true,
   "toc_position": {
    "height": "calc(100% - 180px)",
    "left": "10px",
    "top": "150px",
    "width": "240px"
   },
   "toc_section_display": true,
   "toc_window_display": false
  }
 },
 "nbformat": 4,
 "nbformat_minor": 4
}

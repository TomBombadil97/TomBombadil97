{
 "cells": [
  {
   "cell_type": "markdown",
   "metadata": {
    "deletable": false,
    "editable": false,
    "nbgrader": {
     "cell_type": "markdown",
     "checksum": "2dd6bd7d732e3245e1b77dd0562cb28b",
     "grade": false,
     "grade_id": "cell-3bc5db54f4d3cb71",
     "locked": true,
     "schema_version": 3,
     "solution": false,
     "task": false
    }
   },
   "source": [
    "Dans l'archive `zip` décompressée, ce notebook `.ipynb` est accompagné du fichier de données suivant nécessaire à certaines questions :\n",
    "\n",
    "- g13.txt : valeurs de la grille `g13`\n",
    "\n",
    "et des 3 images qui s'affichent dans ce sujet :\n",
    "\n",
    "- grille13.png      \n",
    "- huit-reines.png   \n",
    "- nbplacements.png\n",
    "\n",
    "\n",
    "En fin d'épreuve, vous devez déposer :\n",
    "- un seul fichier : `tp-8-reines.ipynb` \n",
    "- **sans changer son nom.** "
   ]
  },
  {
   "cell_type": "markdown",
   "metadata": {
    "deletable": false,
    "editable": false,
    "nbgrader": {
     "cell_type": "markdown",
     "checksum": "aa5db7476a1df6bd1763a04a486461d2",
     "grade": false,
     "grade_id": "cell-d99c031b3c40c8f0",
     "locked": true,
     "schema_version": 3,
     "solution": false,
     "task": false
    }
   },
   "source": [
    "**Remarques sur le sujet**\n",
    "\n",
    "- Le sujet comporte 4 sections. Les sections 2, 3, et 4.2 pour partie, sont largement indépendantes les unes des autres.  \n",
    "- **En l'état de l'avancée du cours**, les sections 3 et 4 sont d'une difficulté ($\\star$) et plutôt destinées aux Objectif 20. En effet :\n",
    "    - la section 3 utilise une notion à la marge du programme de ce semestre (la notion d'itérable en python)\n",
    "    - la section 4 utilise les aspects presentés dans le chapitre de cours _Modules utiles_ : mesure de performances et tracés de courbes avec `matplotlib`.  Ces aspects relèveront d'un niveau Objectif 10 en fin de semestre.\n"
   ]
  },
  {
   "cell_type": "markdown",
   "metadata": {
    "deletable": false,
    "editable": false,
    "nbgrader": {
     "cell_type": "markdown",
     "checksum": "2e645c171c115cd9da50951dab0b539f",
     "grade": false,
     "grade_id": "cell-1901bb6e3076d775",
     "locked": true,
     "schema_version": 3,
     "solution": false,
     "task": false
    }
   },
   "source": [
    "La cellule suivante importe des modules nécessaires ou utiles par la suite."
   ]
  },
  {
   "cell_type": "code",
   "execution_count": null,
   "metadata": {
    "deletable": false,
    "editable": false,
    "nbgrader": {
     "cell_type": "code",
     "checksum": "f1f65e5759147b164946e16e8845ba23",
     "grade": false,
     "grade_id": "cell-0778fadc068dc8c8",
     "locked": true,
     "schema_version": 3,
     "solution": false,
     "task": false
    }
   },
   "outputs": [],
   "source": [
    "# -*- coding : utf8 -*-\n",
    "from typing import List\n",
    "from random import randint"
   ]
  },
  {
   "cell_type": "markdown",
   "metadata": {
    "deletable": false,
    "editable": false,
    "nbgrader": {
     "cell_type": "markdown",
     "checksum": "41820692fa778b11e1472aa5b136ed91",
     "grade": false,
     "grade_id": "cell-5a1862ca4fa78e34",
     "locked": true,
     "schema_version": 3,
     "solution": false,
     "task": false
    }
   },
   "source": [
    "# Le problème des huit reines"
   ]
  },
  {
   "cell_type": "markdown",
   "metadata": {
    "deletable": false,
    "editable": false,
    "nbgrader": {
     "cell_type": "markdown",
     "checksum": "a855635481b974a3900924ea6ab12c1e",
     "grade": false,
     "grade_id": "cell-318bfd5c5880cf00",
     "locked": true,
     "schema_version": 3,
     "solution": false,
     "task": false
    }
   },
   "source": [
    "## Définition du problème"
   ]
  },
  {
   "cell_type": "markdown",
   "metadata": {
    "deletable": false,
    "editable": false,
    "nbgrader": {
     "cell_type": "markdown",
     "checksum": "4401ad1d06917951aed311fdd807e09f",
     "grade": false,
     "grade_id": "cell-9fc676a6a6d81694",
     "locked": true,
     "schema_version": 3,
     "solution": false,
     "task": false
    }
   },
   "source": [
    "Le _problème des huit reines_ consiste à placer huit reines d'un jeu d'échec sur un échiquier de 8 × 8 cases sans que les reines ne se menacent mutuellement conformément aux règles du jeu d'échec (la couleur des reines étant ignorée).  \n",
    "\n",
    "Une reine _menace_ toutes les cases de la ligne, de la colonne et des deux diagonales issues de la case où elle se trouve -- on dit aussi que ces cases sont _visibles_ par la reine. \n",
    "Par conséquent, **deux reines ne doivent ni partager une même ligne, ni une même colonne et ni une même diagonale.** \n",
    "\n",
    "Existe-t-il une solution au problème des 8 reines ? \n",
    "Plusieurs solutions ? \n",
    "Combien de solutions ? \n",
    "Peut-on les trouver toutes ?\n",
    "Comment les trouver toutes ?\n",
    "\n",
    "Le nombre total de placements possibles de 8 pièces sur un échiquier 8x8 est $64\\times63\\times\\dots\\times57 = A^{8}_{64} = 178~462~987~637~760.$  \n",
    "Parmi ceux-ci, (nous verrons que) 92 placements sont des solutions du problème des 8 reines.  \n",
    "La figure ci-dessous présente une de ces solutions."
   ]
  },
  {
   "cell_type": "markdown",
   "metadata": {
    "deletable": false,
    "editable": false,
    "nbgrader": {
     "cell_type": "markdown",
     "checksum": "32d8e68bc1abf5b965df397953f74674",
     "grade": false,
     "grade_id": "cell-e22478546220ea5c",
     "locked": true,
     "schema_version": 3,
     "solution": false,
     "task": false
    }
   },
   "source": [
    "![Figure 1 : Une solution du prolème des huit reines.](huit-reines.png)"
   ]
  },
  {
   "cell_type": "markdown",
   "metadata": {
    "deletable": false,
    "editable": false,
    "nbgrader": {
     "cell_type": "markdown",
     "checksum": "82df2db53b4c4c5eab8851bcd67650ae",
     "grade": false,
     "grade_id": "cell-c23c0351488aeb5e",
     "locked": true,
     "schema_version": 3,
     "solution": false,
     "task": false
    }
   },
   "source": [
    "## Objectifs\n",
    "\n",
    "On commence par prendre en main ce problème des 8 reines en programmant :\n",
    "1. une fonction d'affichage d'un échiquier avec un placement donné de une ou plusieurs reines ;\n",
    "2. l'effet du placement d'une reine sur une case donnée de l'échiquier ;\n",
    "2. si un placement donné des 8 reines est une solution du problème (vérification de validité).\n",
    "\n",
    "Cette vérification nous permet de programmer un premier algorithme qui va explorer (une partie de tous) les placements possibles pour trouver toutes les solutions au problème des 8 reines. \n",
    "\n",
    "Ce travail nous permettra ensuite d'identifier plusieurs pistes pour améliorer le traitement afin d'obtenir plus rapidement les solutions du problèmes des 8 reines, voire même attaquer la généralisation de ce problème au placement de $n$ reines pour un échiquier de taille $n\\times n$."
   ]
  },
  {
   "cell_type": "markdown",
   "metadata": {
    "deletable": false,
    "editable": false,
    "nbgrader": {
     "cell_type": "markdown",
     "checksum": "f231ef83da2eebc7c1587478caa7edec",
     "grade": false,
     "grade_id": "cell-3680608725b3b0fb",
     "locked": true,
     "schema_version": 3,
     "solution": false,
     "task": false
    }
   },
   "source": [
    "## Représentation et stockage de l'échiquier\n",
    "\n",
    "L'échiquier est une grille de 8x8 cases stockée dans un tableau 2D python de 8x8 entiers.  \n",
    "\n",
    "Les cases de la grille sont identifiées par deux indices `[ligne][colonne]`. \n",
    "\n",
    "- la case en haut à gauche est d'indices  `[0][0]`\n",
    "- les indices de ligne s'incrémentent vers le bas (de 0 à 7)\n",
    "- les indices de colonnes s'incrémentent de gauche à droite (de 0 à 7)\n",
    "\n",
    "Les valeurs du tableau qui stocke cette grille respectent les règles suivantes adaptées au problème des 8 reines.\n",
    "\n",
    "* Par défaut, les valeurs du tableau valent `0`.\n",
    "* Si une case `[i][j]` contient une reine alors la valeur correspondante  dans le tableau est égale à `-1`.\n",
    "* Sinon, la valeur est égale au nombre de reines qui **menacent** cette case. \n",
    "\n",
    "**Détails de vocabulaire et de notation**. \n",
    "\n",
    "- On identifie la grille et le tableau qui la représente. \n",
    "- On note indifféremment les cases de la grille avec le couple $(i, j)$ ou `[i][j]` comme la paire d'indices habituelle du tableau 2D en python.  \n"
   ]
  },
  {
   "cell_type": "markdown",
   "metadata": {
    "deletable": false,
    "editable": false,
    "nbgrader": {
     "cell_type": "markdown",
     "checksum": "14f1fee2ef71ceb7c6b86ab32d4ee962",
     "grade": false,
     "grade_id": "cell-0fca3e3344da8338",
     "locked": true,
     "schema_version": 3,
     "solution": false,
     "task": false
    }
   },
   "source": [
    "### g0 : grille vide\n",
    "\n",
    "Définir **en une seule ligne de python** la grille vide `g0`.\n",
    "La cellule de test qui suit s'exécutera sans erreur."
   ]
  },
  {
   "cell_type": "code",
   "execution_count": null,
   "metadata": {
    "deletable": false,
    "nbgrader": {
     "cell_type": "code",
     "checksum": "214d4ebf351f67b3ca39745dd519b6e7",
     "grade": false,
     "grade_id": "cell-815e458d3ae2194d",
     "locked": false,
     "schema_version": 3,
     "solution": true,
     "task": false
    }
   },
   "outputs": [],
   "source": [
    "# ENTRER VOTRE CODE A LA PLACE DE CES 2 LIGNES\n",
    "raise NotImplementedError()"
   ]
  },
  {
   "cell_type": "code",
   "execution_count": null,
   "metadata": {
    "deletable": false,
    "editable": false,
    "nbgrader": {
     "cell_type": "code",
     "checksum": "36cfd9a88d8b6c5e1caa485834141d20",
     "grade": false,
     "grade_id": "cell-4bef1574edeaea38",
     "locked": true,
     "schema_version": 3,
     "solution": false,
     "task": false
    }
   },
   "outputs": [],
   "source": [
    "# Exécuter cette cellule sans la modifier, ni écrire dedans\n",
    "# Son exécution ne doit pas déclencher d'erreur \n",
    "dim = 8\n",
    "for i in range(dim): \n",
    "    for j in range(dim):\n",
    "        assert g0[i][j] == 0 "
   ]
  },
  {
   "cell_type": "code",
   "execution_count": null,
   "metadata": {
    "deletable": false,
    "editable": false,
    "nbgrader": {
     "cell_type": "code",
     "checksum": "87ff49b9845b8d99b24b526f81f41331",
     "grade": true,
     "grade_id": "cell-f1b647a5bbef8d18",
     "locked": true,
     "points": 1,
     "schema_version": 3,
     "solution": false,
     "task": false
    }
   },
   "outputs": [],
   "source": [
    "# Ne pas écrire dans cette cellule"
   ]
  },
  {
   "cell_type": "markdown",
   "metadata": {
    "deletable": false,
    "editable": false,
    "nbgrader": {
     "cell_type": "markdown",
     "checksum": "6be4da6f59c819b9ef6181c0443385b6",
     "grade": false,
     "grade_id": "cell-64a803dcfbbb4cfa",
     "locked": true,
     "schema_version": 3,
     "solution": false,
     "task": false
    }
   },
   "source": [
    "## Afficher l'échiquier et lire une configuration initiale\n",
    "\n",
    "**IMPORTANT.**  Les traitements d'entrées-sorties suivants peuvent être un peu longs à écrire de façon correcte. \n",
    "- Vous pouvez les écrire dans un second temps,\n",
    "- et d'ici là utiliser le `print()` ou l'initialisation par affectation pour des ES de substitution.\n",
    "\n",
    "Les _fonctions_ suivantes réalisent des entrées-sorties (lire, afficher).\n",
    "Elles effectuent donc des appels aux fonctions d'ES de python : `print()`, `read()`, `write()`, ...\n",
    "Ce sont bien sûr les seules fonctions ici autorisées à mélanger traitement et ES.\n",
    "La fonction d'affichage est en fait une procédure qui réalise le traitement d'ES et retourne `None`.\n",
    "\n",
    "\n",
    "### `afficher_grille( )` \n",
    "\n",
    "Ecrire la fonction `afficher_grille( )` qui prend en paramètre une grille de 8x8 cases et réalise l'affichage de l'état de l'échiquier où :  \n",
    "\n",
    "- le caractère `Q` représente une case contenant une reine\n",
    "- le caractère `*` représente une case en vue d'une reine\n",
    "- le caractère `  ` représente une case vide et en vue d'aucune reine\n",
    "\n",
    "Dans cette représentation :\n",
    "\n",
    "- les bordures des lignes sont composées avec le motif `+---` et un `+` de terminaison, et\n",
    "- et celles des colonnes avec le caractère `|`.\n",
    "   \n",
    "L'affichage ci-dessous illustre ce qui est attendu après avoir posé une première reine dans la case (1, 3). \n"
   ]
  },
  {
   "cell_type": "markdown",
   "metadata": {
    "deletable": false,
    "editable": false,
    "nbgrader": {
     "cell_type": "markdown",
     "checksum": "c18aeb9f8221a0bf66c80c54c13a06ba",
     "grade": false,
     "grade_id": "cell-e93fb38f9cfa6d43",
     "locked": true,
     "schema_version": 3,
     "solution": false,
     "task": false
    }
   },
   "source": [
    "```\n",
    "+---+---+---+---+---+---+---+---+\n",
    "|   |   | * | * | * |   |   |   |\n",
    "+---+---+---+---+---+---+---+---+\n",
    "| * | * | * | Q | * | * | * | * |\n",
    "+---+---+---+---+---+---+---+---+\n",
    "|   |   | * | * | * |   |   |   |\n",
    "+---+---+---+---+---+---+---+---+\n",
    "|   | * |   | * |   | * |   |   |\n",
    "+---+---+---+---+---+---+---+---+\n",
    "| * |   |   | * |   |   | * |   |\n",
    "+---+---+---+---+---+---+---+---+\n",
    "|   |   |   | * |   |   |   | * |\n",
    "+---+---+---+---+---+---+---+---+\n",
    "|   |   |   | * |   |   |   |   |\n",
    "+---+---+---+---+---+---+---+---+\n",
    "|   |   |   | * |   |   |   |   |\n",
    "+---+---+---+---+---+---+---+---+\n",
    "```"
   ]
  },
  {
   "cell_type": "code",
   "execution_count": null,
   "metadata": {
    "deletable": false,
    "nbgrader": {
     "cell_type": "code",
     "checksum": "58cc6ee9c166f26d9de2bc13eda26a6a",
     "grade": false,
     "grade_id": "cell-84ca71b459d2b036",
     "locked": false,
     "schema_version": 3,
     "solution": true,
     "task": false
    }
   },
   "outputs": [],
   "source": [
    "def afficher_grille(grille: List[List[int]], dim: int = 8) -> None: \n",
    "    # ENTRER VOTRE CODE A LA PLACE DE CES 2 LIGNES\n",
    "    raise NotImplementedError()"
   ]
  },
  {
   "cell_type": "code",
   "execution_count": null,
   "metadata": {
    "deletable": false,
    "editable": false,
    "nbgrader": {
     "cell_type": "code",
     "checksum": "b7f840a29d152a253425a96827ed1c7e",
     "grade": true,
     "grade_id": "cell-0c1866d35a374f0f",
     "locked": true,
     "points": 1,
     "schema_version": 3,
     "solution": false,
     "task": false
    }
   },
   "outputs": [],
   "source": [
    "# Ne pas écrire dans cette cellule"
   ]
  },
  {
   "cell_type": "markdown",
   "metadata": {
    "deletable": false,
    "editable": false,
    "nbgrader": {
     "cell_type": "markdown",
     "checksum": "df345af0b0428cc9e7fd2ec56bc8db6e",
     "grade": false,
     "grade_id": "cell-1c0fe5fda4a82c82",
     "locked": true,
     "schema_version": 3,
     "solution": false,
     "task": false
    }
   },
   "source": [
    "### Test de `afficher_grille( )` \n",
    "\n",
    "En complétant le code ci-dessous, tester la fonction `afficher_grille` sur la grille `g13` pour obtenir l'affichage donné en exemple au dessus."
   ]
  },
  {
   "cell_type": "code",
   "execution_count": null,
   "metadata": {
    "deletable": false,
    "nbgrader": {
     "cell_type": "code",
     "checksum": "40a75c732df28c9bda974f4d58ec7125",
     "grade": false,
     "grade_id": "cell-b5faaf7da8a7cc0c",
     "locked": false,
     "schema_version": 3,
     "solution": true,
     "task": false
    }
   },
   "outputs": [],
   "source": [
    "g13 = [[0, 0, 1, 1, 1, 0, 0, 0], \n",
    "      [1, 1, 1, -1, 1, 1, 1, 1], \n",
    "      [0, 0, 1, 1, 1, 0, 0, 0], \n",
    "      [0, 1, 0, 1, 0, 1, 0, 0], \n",
    "      [1, 0, 0, 1, 0, 0, 1, 0], \n",
    "      [0, 0, 0, 1, 0, 0, 0, 1], \n",
    "      [0, 0, 0, 1, 0, 0, 0, 0], \n",
    "      [0, 0, 0, 1, 0, 0, 0, 0]]\n",
    "\n",
    "# ENTRER VOTRE CODE A LA PLACE DE CES 2 LIGNES\n",
    "raise NotImplementedError()"
   ]
  },
  {
   "cell_type": "code",
   "execution_count": null,
   "metadata": {
    "deletable": false,
    "editable": false,
    "nbgrader": {
     "cell_type": "code",
     "checksum": "f89609b2e97f2650e36b5e7658f42465",
     "grade": true,
     "grade_id": "cell-a9d40ecc3a8c3d0d",
     "locked": true,
     "points": 1,
     "schema_version": 3,
     "solution": false,
     "task": false
    }
   },
   "outputs": [],
   "source": [
    "# Ne pas écrire dans cette cellule"
   ]
  },
  {
   "cell_type": "markdown",
   "metadata": {
    "deletable": false,
    "editable": false,
    "nbgrader": {
     "cell_type": "markdown",
     "checksum": "4f2fac34318d8d20bb1602e69e7eaed2",
     "grade": false,
     "grade_id": "cell-cdfb5c3f9510378a",
     "locked": true,
     "schema_version": 3,
     "solution": false,
     "task": false
    }
   },
   "source": [
    "### `lire_grille()`\n",
    "\n",
    "Ecrire la fonction `lire_grille()` qui prend en paramètre le chemin d'accès à un fichier stockant l'état d'une grille de 8x8 cases (selon le format suivant) et qui retourne le tableau 2D qui la représente.\n",
    "\n",
    "Par exemple, `lire_grille(\"./g13.txt\", 8)` doit construire et retourner `g13`.\n",
    "\n",
    "**Format du fichier d'entrée** : \n",
    "\n",
    "- Chaque ligne dans le fichier représente une ligne de valeurs dans la grille  \n",
    "- Les valeurs de chaque ligne correspondent à notre représentation de l'échiquier : \n",
    "    - -1 pour case avec reine,  \n",
    "    - 0 pour case vide,  \n",
    "    - 1 pour case visible d'une reine, 2 de deux reines, ...  \n",
    "- Ces valeurs sont séparées par des `,` (sauf la dernière donc).  \n",
    "- La grille décrite par le fichier peut être complète (les 8 reines sont placées) ou incomplètes (0, 1, ... 7 reines placées seulement). \n",
    "    - Par exemple, 1 seule reine est placée dans `g13` obtenu à partir du fichier `g13.txt`).  \n",
    "- Cette phase de lecture n'inclut pas de vérification du contenu du fichier, ni de sa cohérence : valeur manquante, inadéquate, incohérente, ... \n",
    "\n",
    "Voici par exemple le contenu du fichier `g13.txt` fourni. \n",
    "```python\n",
    "# sur linux et mac os\n",
    "!cat ./g13.txt \n",
    "# sur windows (sans garantie :)\n",
    "#!type .\\g13.txt\n",
    "\n",
    "0,0,1,1,1,0,0,0\n",
    "1,1,1,-1,1,1,1,1\n",
    "0,0,1,1,1,0,0,0\n",
    "0,1,0,1,0,1,0,0\n",
    "1,0,0,1,0,0,1,0\n",
    "0,0,0,1,0,0,0,1\n",
    "0,0,0,1,0,0,0,0\n",
    "0,0,0,1,0,0,0,0\n",
    "```"
   ]
  },
  {
   "cell_type": "code",
   "execution_count": null,
   "metadata": {
    "deletable": false,
    "nbgrader": {
     "cell_type": "code",
     "checksum": "91ebe07b7aac5e4c60ea1cf89427666b",
     "grade": false,
     "grade_id": "cell-833d1db26eec58f1",
     "locked": false,
     "schema_version": 3,
     "solution": true,
     "task": false
    }
   },
   "outputs": [],
   "source": [
    "def lire_grille(path_to_file: str, dim: int = 8) -> List[List[int]]:\n",
    "    # ENTRER VOTRE CODE A LA PLACE DE CES 2 LIGNES\n",
    "    raise NotImplementedError()"
   ]
  },
  {
   "cell_type": "code",
   "execution_count": null,
   "metadata": {
    "deletable": false,
    "editable": false,
    "nbgrader": {
     "cell_type": "code",
     "checksum": "681f92595c6cd8afee828d12ec17ff6f",
     "grade": true,
     "grade_id": "cell-ce47074e4d33d20f",
     "locked": true,
     "points": 2,
     "schema_version": 3,
     "solution": false,
     "task": false
    }
   },
   "outputs": [],
   "source": [
    "# Ne pas modifier cette cellule"
   ]
  },
  {
   "cell_type": "markdown",
   "metadata": {
    "deletable": false,
    "editable": false,
    "nbgrader": {
     "cell_type": "markdown",
     "checksum": "d51b4446a6eb4cf6bb947c2627f6dce7",
     "grade": false,
     "grade_id": "cell-11083240311a60b5",
     "locked": true,
     "schema_version": 3,
     "solution": false,
     "task": false
    }
   },
   "source": [
    "### Test de `lire_grille()`\n",
    "\n",
    "Tester la fonction `lire_grille()` sur le fichier `g13.txt` fourni et vérifier que vous obtenez bien une grille identique à `g13` : la cellule suivante doit s'exécuter sans erreur."
   ]
  },
  {
   "cell_type": "code",
   "execution_count": null,
   "metadata": {
    "deletable": false,
    "editable": false,
    "nbgrader": {
     "cell_type": "code",
     "checksum": "795e26c5ea1adc141a4a6267dca34110",
     "grade": false,
     "grade_id": "cell-1b34beacb5f6d7d5",
     "locked": true,
     "schema_version": 3,
     "solution": false,
     "task": false
    }
   },
   "outputs": [],
   "source": [
    "# Exécuter cette cellule sans la modifier, ni écrire dedans\n",
    "# Son exécution ne doit pas déclencher d'erreur \n",
    "g13_lue = lire_grille('g13.txt', 8)\n",
    "\n",
    "assert g13 == g13_lue"
   ]
  },
  {
   "cell_type": "markdown",
   "metadata": {
    "deletable": false,
    "editable": false,
    "nbgrader": {
     "cell_type": "markdown",
     "checksum": "dd1c1cdebd77eae15f8f49189013455c",
     "grade": false,
     "grade_id": "cell-9cb07e17c5e70aa6",
     "locked": true,
     "schema_version": 3,
     "solution": false,
     "task": false
    }
   },
   "source": [
    "# Etapes vers la construction d'une solution\n",
    "\n",
    "On se souhaite construire une solution au problème des 8 reines en essayant de placer _successivement_ chaque reine sur une case de notre choix. \n",
    "Bien sûr, choisir une case pour y placer une reine ne peut pas se faire n'importe comment : seules les cases non menacées par les reines déjà placées sont disponibles pour une nouvelle reine.  \n",
    "\n",
    "Dans cette partie, on va développer des fonctions qui permettent de vérifier si le choix d'une case pour _une nouvelle reine_ est possible, et ce en prenant en compte _l'état actuel de l'échiquier_, c-a-d. les reines déjà placées.\n",
    "\n",
    "Pour cela chaque fois qu'une reine est placée, on fait évoluer l'état de l'échiquier en identifiant les cases qui deviennent indisponibles, _ie._ les cases menacées par la reine qui vient d'être placée. Ces cases indisponibles sont dites _bloquées_.\n",
    "\n",
    "## Bloquer ligne, colonne et diagonales\n",
    "\n",
    "On se place dans la situation suivante.\n",
    "\n",
    "- Une case $(i, j)$ de la grille n'est menacée par aucune reine.\n",
    "- On place sur cette case $(i, j)$ une nouvelle reine.\n",
    "- Ainsi, cette nouvelle reine menace les cases de la lignes, de la colonne et des deux diagonales issues de la case $(i,j)$.\n",
    "\n",
    "Il s'agit donc de bloquer toutes ces cases pour mettre à jour l'état de l'échiquier.\n",
    "Les traitements suivants effectuent cette mise à jour, d'abord pour la ligne et la colonne, puis pour les diagonales concernées par un placement arbitraire d'une nouvelle reine. \n",
    "\n",
    "Il s'agit donc de _procédures_ qui modifient l'état de la grille passée comme paramètre.  \n",
    "Ces traitements seront mis en oeuvre sous la forme de _fonctions python_ qui retournent `None`.  "
   ]
  },
  {
   "cell_type": "markdown",
   "metadata": {
    "deletable": false,
    "editable": false,
    "nbgrader": {
     "cell_type": "markdown",
     "checksum": "53817f81f238fa33bb05c966d0e5166c",
     "grade": false,
     "grade_id": "cell-7ccf1cffd309f412",
     "locked": true,
     "schema_version": 3,
     "solution": false,
     "task": false
    }
   },
   "source": [
    "### `bloquer_lig_col( )`\n",
    "\n",
    "Ecrire la fonction `bloquer_lig_col( )` prenant en paramètres les indices de ligne et de colonne d'une case _qui vient d'accueillir_ une reine dans une grille (de taille 8x8).\n",
    "Cette fonction modifie l'état des cases de la ligne et de la colonne relatives à la position fournie en paramètre.\n",
    "\n",
    "**Remarque.** Il n'est pas demandé de vérifier que la case peut effectivement accueillir la reine."
   ]
  },
  {
   "cell_type": "code",
   "execution_count": null,
   "metadata": {
    "deletable": false,
    "nbgrader": {
     "cell_type": "code",
     "checksum": "8f6b77f7db029c5d02d625870a53022b",
     "grade": false,
     "grade_id": "cell-ad83a9fe0ed98c99",
     "locked": false,
     "schema_version": 3,
     "solution": true,
     "task": false
    }
   },
   "outputs": [],
   "source": [
    "def bloquer_lig_col(ligne: int, colonne: int, grille: List[List[int]], dim: int = 8) -> None:\n",
    "    # ENTRER VOTRE CODE A LA PLACE DE CES 2 LIGNES\n",
    "    raise NotImplementedError()"
   ]
  },
  {
   "cell_type": "code",
   "execution_count": null,
   "metadata": {
    "deletable": false,
    "editable": false,
    "nbgrader": {
     "cell_type": "code",
     "checksum": "0a0427d8b57aad366caaaf18972bcda4",
     "grade": true,
     "grade_id": "cell-15f135c7a3faa7f4",
     "locked": true,
     "points": 1,
     "schema_version": 3,
     "solution": false,
     "task": false
    }
   },
   "outputs": [],
   "source": [
    "# Ne pas modifier cette cellule"
   ]
  },
  {
   "cell_type": "markdown",
   "metadata": {
    "deletable": false,
    "editable": false,
    "nbgrader": {
     "cell_type": "markdown",
     "checksum": "8bb5e7437c1006e0f78511e23af10b70",
     "grade": false,
     "grade_id": "cell-2d3b4d8ca2a0e903",
     "locked": true,
     "schema_version": 3,
     "solution": false,
     "task": false
    }
   },
   "source": [
    "### Test de  `bloquer_lig_col( )` sur une case choisie\n",
    "\n",
    "Tester la fonction `bloquer_lig_col` en complétant le code selon les commentaires indiqués. \n"
   ]
  },
  {
   "cell_type": "code",
   "execution_count": null,
   "metadata": {
    "deletable": false,
    "nbgrader": {
     "cell_type": "code",
     "checksum": "1785b74d7d58b4c4735ecadc95411832",
     "grade": false,
     "grade_id": "cell-3de9f782bff5e1b9",
     "locked": false,
     "schema_version": 3,
     "solution": true,
     "task": false
    }
   },
   "outputs": [],
   "source": [
    "# définir g0 grille vide\n",
    "\n",
    "# placer une première reine dans la case [3][4] de g0\n",
    "\n",
    "# contrôler avec l'affichage de la grille\n",
    "\n",
    "# modifier l'état des lignes et colonnes suite au placement\n",
    "\n",
    "# contrôler avec l'affichage de la grille\n",
    "\n",
    "\n",
    "# ENTRER VOTRE CODE A LA PLACE DE CES 2 LIGNES\n",
    "raise NotImplementedError()"
   ]
  },
  {
   "cell_type": "markdown",
   "metadata": {
    "deletable": false,
    "editable": false,
    "nbgrader": {
     "cell_type": "markdown",
     "checksum": "7b8bbe45d3c08f5b95b3f8088ba046e5",
     "grade": false,
     "grade_id": "cell-77684edc237e5e70",
     "locked": true,
     "schema_version": 3,
     "solution": false,
     "task": false
    }
   },
   "source": [
    "Vous devez obtenir l'affichage suivant.\n",
    "\n",
    "```shell\n",
    "+---+---+---+---+---+---+---+---+\n",
    "|   |   |   |   |   |   |   |   |\n",
    "+---+---+---+---+---+---+---+---+\n",
    "|   |   |   |   |   |   |   |   |\n",
    "+---+---+---+---+---+---+---+---+\n",
    "|   |   |   |   |   |   |   |   |\n",
    "+---+---+---+---+---+---+---+---+\n",
    "|   |   |   |   | Q |   |   |   |\n",
    "+---+---+---+---+---+---+---+---+\n",
    "|   |   |   |   |   |   |   |   |\n",
    "+---+---+---+---+---+---+---+---+\n",
    "|   |   |   |   |   |   |   |   |\n",
    "+---+---+---+---+---+---+---+---+\n",
    "|   |   |   |   |   |   |   |   |\n",
    "+---+---+---+---+---+---+---+---+\n",
    "|   |   |   |   |   |   |   |   |\n",
    "+---+---+---+---+---+---+---+---+\n",
    "+---+---+---+---+---+---+---+---+\n",
    "|   |   |   |   | * |   |   |   |\n",
    "+---+---+---+---+---+---+---+---+\n",
    "|   |   |   |   | * |   |   |   |\n",
    "+---+---+---+---+---+---+---+---+\n",
    "|   |   |   |   | * |   |   |   |\n",
    "+---+---+---+---+---+---+---+---+\n",
    "| * | * | * | * | Q | * | * | * |\n",
    "+---+---+---+---+---+---+---+---+\n",
    "|   |   |   |   | * |   |   |   |\n",
    "+---+---+---+---+---+---+---+---+\n",
    "|   |   |   |   | * |   |   |   |\n",
    "+---+---+---+---+---+---+---+---+\n",
    "|   |   |   |   | * |   |   |   |\n",
    "+---+---+---+---+---+---+---+---+\n",
    "|   |   |   |   | * |   |   |   |\n",
    "+---+---+---+---+---+---+---+---+\n",
    "```"
   ]
  },
  {
   "cell_type": "code",
   "execution_count": null,
   "metadata": {
    "deletable": false,
    "editable": false,
    "nbgrader": {
     "cell_type": "code",
     "checksum": "05f22783bbe4faabd0fc7cc8fc498627",
     "grade": true,
     "grade_id": "cell-858df59bc5c108ea",
     "locked": true,
     "points": 1,
     "schema_version": 3,
     "solution": false,
     "task": false
    }
   },
   "outputs": [],
   "source": [
    "# Ne pas modifier cette cellule"
   ]
  },
  {
   "cell_type": "markdown",
   "metadata": {
    "deletable": false,
    "editable": false,
    "nbgrader": {
     "cell_type": "markdown",
     "checksum": "8a8ae7f270a121bbcae0778d4ea5def5",
     "grade": false,
     "grade_id": "cell-73145841b2b0ea66",
     "locked": true,
     "schema_version": 3,
     "solution": false,
     "task": false
    }
   },
   "source": [
    "### `bloquer_deux_diag( )`\n",
    "\n",
    "Ecrire la fonction `bloquer_deux_diag( )` prenant en paramètres les indices de ligne et de colonne d'une case _qui vient d'accueillir_ une reine dans une grille (de taille 8x8) aussi donnée en paramètre.\n",
    "Cette fonction modifie l'état des cases des 2 diagonales relatives à la position fournie en paramètre.\n",
    "\n",
    "**Remarque.** Il n'est pas demandé de vérifier que la case peut effectivement accueillir la reine."
   ]
  },
  {
   "cell_type": "code",
   "execution_count": null,
   "metadata": {
    "deletable": false,
    "nbgrader": {
     "cell_type": "code",
     "checksum": "2394f3e7aa338b6b7f5529a5c80c4b96",
     "grade": false,
     "grade_id": "cell-7f4eb8c2c7940bf0",
     "locked": false,
     "schema_version": 3,
     "solution": true,
     "task": false
    }
   },
   "outputs": [],
   "source": [
    "def bloquer_deux_diag(ligne: int, colonne: int, grille: List[List[int]], dim: int = 8) -> None:\n",
    "    # ENTRER VOTRE CODE A LA PLACE DE CES 2 LIGNES\n",
    "    raise NotImplementedError()"
   ]
  },
  {
   "cell_type": "code",
   "execution_count": null,
   "metadata": {
    "deletable": false,
    "editable": false,
    "nbgrader": {
     "cell_type": "code",
     "checksum": "8cb247aea8153a35230232603b087b0c",
     "grade": true,
     "grade_id": "cell-34b140614598e8c4",
     "locked": true,
     "points": 2,
     "schema_version": 3,
     "solution": false,
     "task": false
    }
   },
   "outputs": [],
   "source": [
    "# Ne pas modifier cette cellule"
   ]
  },
  {
   "cell_type": "markdown",
   "metadata": {
    "deletable": false,
    "editable": false,
    "nbgrader": {
     "cell_type": "markdown",
     "checksum": "84fec228f04805b5c27c31e0aeedbd2c",
     "grade": false,
     "grade_id": "cell-0a0625e804732392",
     "locked": true,
     "schema_version": 3,
     "solution": false,
     "task": false
    }
   },
   "source": [
    "### Test de  `bloquer_deux_diag( )` sur une case choisie\n",
    "\n",
    "Tester la fonction `bloquer_deux_diag()` en complétant le code ci-dessous selon les commentaires indiqués.  \n"
   ]
  },
  {
   "cell_type": "code",
   "execution_count": null,
   "metadata": {
    "deletable": false,
    "nbgrader": {
     "cell_type": "code",
     "checksum": "470c3f56da10e9142cfb9b3d2a9b7388",
     "grade": false,
     "grade_id": "cell-f4253604c900707f",
     "locked": false,
     "schema_version": 3,
     "solution": true,
     "task": false
    }
   },
   "outputs": [],
   "source": [
    "# définir g0 grille vide\n",
    "\n",
    "# placer une première reine dans la case [3][4] de g0\n",
    "\n",
    "# contrôler avec l'affichage de la grille\n",
    "\n",
    "# modifier l'état des des deux diagonales suite au placement\n",
    "\n",
    "# contrôler avec l'affichage de la grille\n",
    "\n",
    "\n",
    "# ENTRER VOTRE CODE A LA PLACE DE CES 2 LIGNES\n",
    "raise NotImplementedError()"
   ]
  },
  {
   "cell_type": "markdown",
   "metadata": {
    "deletable": false,
    "editable": false,
    "nbgrader": {
     "cell_type": "markdown",
     "checksum": "270384d3306f34388d8d9c64aa4dd7cd",
     "grade": false,
     "grade_id": "cell-dfc497253cb2e93d",
     "locked": true,
     "schema_version": 3,
     "solution": false,
     "task": false
    }
   },
   "source": [
    "Vous devez obtenir l'affichage suivant.\n",
    "\n",
    "```shell\n",
    "+---+---+---+---+---+---+---+---+\n",
    "|   |   |   |   |   |   |   |   |\n",
    "+---+---+---+---+---+---+---+---+\n",
    "|   |   |   |   |   |   |   |   |\n",
    "+---+---+---+---+---+---+---+---+\n",
    "|   |   |   |   |   |   |   |   |\n",
    "+---+---+---+---+---+---+---+---+\n",
    "|   |   |   |   | Q |   |   |   |\n",
    "+---+---+---+---+---+---+---+---+\n",
    "|   |   |   |   |   |   |   |   |\n",
    "+---+---+---+---+---+---+---+---+\n",
    "|   |   |   |   |   |   |   |   |\n",
    "+---+---+---+---+---+---+---+---+\n",
    "|   |   |   |   |   |   |   |   |\n",
    "+---+---+---+---+---+---+---+---+\n",
    "|   |   |   |   |   |   |   |   |\n",
    "+---+---+---+---+---+---+---+---+\n",
    "+---+---+---+---+---+---+---+---+\n",
    "|   | * |   |   |   |   |   | * |\n",
    "+---+---+---+---+---+---+---+---+\n",
    "|   |   | * |   |   |   | * |   |\n",
    "+---+---+---+---+---+---+---+---+\n",
    "|   |   |   | * |   | * |   |   |\n",
    "+---+---+---+---+---+---+---+---+\n",
    "|   |   |   |   | Q |   |   |   |\n",
    "+---+---+---+---+---+---+---+---+\n",
    "|   |   |   | * |   | * |   |   |\n",
    "+---+---+---+---+---+---+---+---+\n",
    "|   |   | * |   |   |   | * |   |\n",
    "+---+---+---+---+---+---+---+---+\n",
    "|   | * |   |   |   |   |   | * |\n",
    "+---+---+---+---+---+---+---+---+\n",
    "| * |   |   |   |   |   |   |   |\n",
    "+---+---+---+---+---+---+---+---+\n",
    "```"
   ]
  },
  {
   "cell_type": "code",
   "execution_count": null,
   "metadata": {
    "deletable": false,
    "editable": false,
    "nbgrader": {
     "cell_type": "code",
     "checksum": "1866d4ed31e84b245d72efef4590c319",
     "grade": true,
     "grade_id": "cell-e4c53f9133511fe0",
     "locked": true,
     "points": 1,
     "schema_version": 3,
     "solution": false,
     "task": false
    }
   },
   "outputs": [],
   "source": [
    "# Ne pas modifier cette cellule"
   ]
  },
  {
   "cell_type": "markdown",
   "metadata": {
    "deletable": false,
    "editable": false,
    "nbgrader": {
     "cell_type": "markdown",
     "checksum": "fa02e3f0a0d40ad0e8247f7c2c43e344",
     "grade": false,
     "grade_id": "cell-8350875f0196c82e",
     "locked": true,
     "schema_version": 3,
     "solution": false,
     "task": false
    }
   },
   "source": [
    "### Autres tests de  `bloquer_lig_col` et `bloquer_deux_diag`\n",
    "\n",
    "Ecrire le traitement qui reprend les tests des fonctions `bloquer_lig_col` et `bloquer_deux_diag()` pour les 4 coins de la grille.  \n",
    "Remettre à zéro la grille après le test de chaque coin : il n'est pas demandé pour l'instant d'obtenir l'effet complet du placement successif de plusieurs reines.\n",
    "\n",
    "Vous devez obtenir l'affichage suivant.\n",
    "```shell\n",
    "+---+---+---+---+---+---+---+---+\n",
    "| Q | * | * | * | * | * | * | * |\n",
    "+---+---+---+---+---+---+---+---+\n",
    "| * | * |   |   |   |   |   |   |\n",
    "+---+---+---+---+---+---+---+---+\n",
    "| * |   | * |   |   |   |   |   |\n",
    "+---+---+---+---+---+---+---+---+\n",
    "| * |   |   | * |   |   |   |   |\n",
    "+---+---+---+---+---+---+---+---+\n",
    "| * |   |   |   | * |   |   |   |\n",
    "+---+---+---+---+---+---+---+---+\n",
    "| * |   |   |   |   | * |   |   |\n",
    "+---+---+---+---+---+---+---+---+\n",
    "| * |   |   |   |   |   | * |   |\n",
    "+---+---+---+---+---+---+---+---+\n",
    "| * |   |   |   |   |   |   | * |\n",
    "+---+---+---+---+---+---+---+---+\n",
    "+---+---+---+---+---+---+---+---+\n",
    "| * | * | * | * | * | * | * | Q |\n",
    "+---+---+---+---+---+---+---+---+\n",
    "|   |   |   |   |   |   | * | * |\n",
    "+---+---+---+---+---+---+---+---+\n",
    "|   |   |   |   |   | * |   | * |\n",
    "+---+---+---+---+---+---+---+---+\n",
    "|   |   |   |   | * |   |   | * |\n",
    "+---+---+---+---+---+---+---+---+\n",
    "|   |   |   | * |   |   |   | * |\n",
    "+---+---+---+---+---+---+---+---+\n",
    "|   |   | * |   |   |   |   | * |\n",
    "+---+---+---+---+---+---+---+---+\n",
    "|   | * |   |   |   |   |   | * |\n",
    "+---+---+---+---+---+---+---+---+\n",
    "| * |   |   |   |   |   |   | * |\n",
    "+---+---+---+---+---+---+---+---+\n",
    "+---+---+---+---+---+---+---+---+\n",
    "| * |   |   |   |   |   |   | * |\n",
    "+---+---+---+---+---+---+---+---+\n",
    "| * |   |   |   |   |   | * |   |\n",
    "+---+---+---+---+---+---+---+---+\n",
    "| * |   |   |   |   | * |   |   |\n",
    "+---+---+---+---+---+---+---+---+\n",
    "| * |   |   |   | * |   |   |   |\n",
    "+---+---+---+---+---+---+---+---+\n",
    "| * |   |   | * |   |   |   |   |\n",
    "+---+---+---+---+---+---+---+---+\n",
    "| * |   | * |   |   |   |   |   |\n",
    "+---+---+---+---+---+---+---+---+\n",
    "| * | * |   |   |   |   |   |   |\n",
    "+---+---+---+---+---+---+---+---+\n",
    "| Q | * | * | * | * | * | * | * |\n",
    "+---+---+---+---+---+---+---+---+\n",
    "+---+---+---+---+---+---+---+---+\n",
    "| * |   |   |   |   |   |   | * |\n",
    "+---+---+---+---+---+---+---+---+\n",
    "|   | * |   |   |   |   |   | * |\n",
    "+---+---+---+---+---+---+---+---+\n",
    "|   |   | * |   |   |   |   | * |\n",
    "+---+---+---+---+---+---+---+---+\n",
    "|   |   |   | * |   |   |   | * |\n",
    "+---+---+---+---+---+---+---+---+\n",
    "|   |   |   |   | * |   |   | * |\n",
    "+---+---+---+---+---+---+---+---+\n",
    "|   |   |   |   |   | * |   | * |\n",
    "+---+---+---+---+---+---+---+---+\n",
    "|   |   |   |   |   |   | * | * |\n",
    "+---+---+---+---+---+---+---+---+\n",
    "| * | * | * | * | * | * | * | Q |\n",
    "+---+---+---+---+---+---+---+---+\n",
    "```"
   ]
  },
  {
   "cell_type": "code",
   "execution_count": null,
   "metadata": {
    "deletable": false,
    "nbgrader": {
     "cell_type": "code",
     "checksum": "d8107210523a00c36f07dc0a3854ead1",
     "grade": false,
     "grade_id": "cell-9af2cc30e9407b6e",
     "locked": false,
     "schema_version": 3,
     "solution": true,
     "task": false
    }
   },
   "outputs": [],
   "source": [
    "# ENTRER VOTRE CODE A LA PLACE DE CES 2 LIGNES\n",
    "raise NotImplementedError()"
   ]
  },
  {
   "cell_type": "code",
   "execution_count": null,
   "metadata": {
    "deletable": false,
    "editable": false,
    "nbgrader": {
     "cell_type": "code",
     "checksum": "35b65ddae2a8b10cd01a18d508eb2f30",
     "grade": true,
     "grade_id": "cell-5c5c39deaf351747",
     "locked": true,
     "points": 1,
     "schema_version": 3,
     "solution": false,
     "task": false
    }
   },
   "outputs": [],
   "source": [
    "# Ne pas modifier cette cellule"
   ]
  },
  {
   "cell_type": "markdown",
   "metadata": {
    "deletable": false,
    "editable": false,
    "nbgrader": {
     "cell_type": "markdown",
     "checksum": "48a18d593f3495abd365673603e38f8b",
     "grade": false,
     "grade_id": "cell-4f11eecec3bea7fb",
     "locked": true,
     "schema_version": 3,
     "solution": false,
     "task": false
    }
   },
   "source": [
    "## Une reine est-elle en sécurité ?\n",
    "\n",
    "### `est_sauve( )`\n",
    "\n",
    "Ecrire la fonction `est_sauve( )` qui prend en paramètres la ligne et la colonne d'une case et une grille (8x8) et retourne un booléen.\n",
    "\n",
    "Si la case (valide) n'est menacée par aucune reine **déjà placée** sur la grille, la fonction `est_sauve( )` retourne `True` et `False` sinon. \n",
    "\n",
    "Si la case désignée n'a pas de sens pour la grille, la valeur `False` est aussi retournée.\n",
    "Ce choix n'est pas entièrement satisfaisant (il ne permet pas de distinguer une erreur d'une interdiction de placement.) \n",
    "Nous verrons plus tard dans le semestre comment définir un traitement spécifique adapté (levée d'une exception).\n",
    "**Il n'est pas demandé d'écrire un tel traitement :** seule la valeur `False` est retournée dans ce cas. \n",
    "\n",
    "Ainsi, la case fournie en paramètre est susceptible de recevoir une nouvelle reine lorsque `est_sauve( )` retourne `True`.  "
   ]
  },
  {
   "cell_type": "code",
   "execution_count": null,
   "metadata": {
    "deletable": false,
    "nbgrader": {
     "cell_type": "code",
     "checksum": "d600fd744ad1ffd049289dc875df7d7e",
     "grade": false,
     "grade_id": "cell-4a01df62193a831d",
     "locked": false,
     "schema_version": 3,
     "solution": true,
     "task": false
    }
   },
   "outputs": [],
   "source": [
    "def est_sauve(ligne: int, colonne: int, grille: List[List[int]], dim: int = 8) -> bool:\n",
    "    # ENTRER VOTRE CODE A LA PLACE DE CES 2 LIGNES\n",
    "    raise NotImplementedError()"
   ]
  },
  {
   "cell_type": "code",
   "execution_count": null,
   "metadata": {
    "deletable": false,
    "editable": false,
    "nbgrader": {
     "cell_type": "code",
     "checksum": "aa913a998e95b6f5810ad89149feddee",
     "grade": true,
     "grade_id": "cell-4e649470e8dcdee9",
     "locked": true,
     "points": 1,
     "schema_version": 3,
     "solution": false,
     "task": false
    }
   },
   "outputs": [],
   "source": [
    "# Ne pas modifier cette cellule"
   ]
  },
  {
   "cell_type": "markdown",
   "metadata": {
    "deletable": false,
    "editable": false,
    "nbgrader": {
     "cell_type": "markdown",
     "checksum": "32a046292c0b1356239456db9b2a3a7f",
     "grade": false,
     "grade_id": "cell-d706de886da9bb7f",
     "locked": true,
     "schema_version": 3,
     "solution": false,
     "task": false
    }
   },
   "source": [
    "### Test de `est_sauve()` \n",
    "\n",
    "Vérifier que l'exécution de la cellule suivante (des tests avec la grille `g13`) produit bien l'affichage :\n",
    "\n",
    "```shell\n",
    "+---+---+---+---+---+---+---+---+\n",
    "|   |   | * | * | * |   |   |   |\n",
    "+---+---+---+---+---+---+---+---+\n",
    "| * | * | * | Q | * | * | * | * |\n",
    "+---+---+---+---+---+---+---+---+\n",
    "|   |   | * | * | * |   |   |   |\n",
    "+---+---+---+---+---+---+---+---+\n",
    "|   | * |   | * |   | * |   |   |\n",
    "+---+---+---+---+---+---+---+---+\n",
    "| * |   |   | * |   |   | * |   |\n",
    "+---+---+---+---+---+---+---+---+\n",
    "|   |   |   | * |   |   |   | * |\n",
    "+---+---+---+---+---+---+---+---+\n",
    "|   |   |   | * |   |   |   |   |\n",
    "+---+---+---+---+---+---+---+---+\n",
    "|   |   |   | * |   |   |   |   |\n",
    "+---+---+---+---+---+---+---+---+\n",
    "La case spécifiée est vide, la reine sera en sécurité\n",
    "La case spécifiée est non vide, la reine ne sera pas en sécurité\n",
    "La case spécifiée est non vide, la reine ne sera pas en sécurité\n",
    "La case spécifiée est non vide, la reine ne sera pas en sécurité\n",
    "```\n",
    "\n",
    "**Aucune entrée de valeur au clavier** n'est nécessaire. \n",
    "Si besoin, commentez l'affichage de la grille."
   ]
  },
  {
   "cell_type": "code",
   "execution_count": null,
   "metadata": {
    "deletable": false,
    "nbgrader": {
     "cell_type": "code",
     "checksum": "03c4a66d7eb3e6180b2fa338de7ed6ea",
     "grade": false,
     "grade_id": "cell-62f6ad15d25567e3",
     "locked": false,
     "schema_version": 3,
     "solution": true,
     "task": false
    }
   },
   "outputs": [],
   "source": [
    "# les messages de contrôle attendus\n",
    "message_case_vide = \"La case spécifiée est vide, la reine sera en sécurité\"\n",
    "message_case_non_vide = \"La case spécifiée est non vide, la reine ne sera pas en sécurité\"\n",
    "\n",
    "# définition g13\n",
    "g13 = [[0, 0, 1, 1, 1, 0, 0, 0], \n",
    "      [1, 1, 1, -1, 1, 1, 1, 1], \n",
    "      [0, 0, 1, 1, 1, 0, 0, 0], \n",
    "      [0, 1, 0, 1, 0, 1, 0, 0], \n",
    "      [1, 0, 0, 1, 0, 0, 1, 0], \n",
    "      [0, 0, 0, 1, 0, 0, 0, 1], \n",
    "      [0, 0, 0, 1, 0, 0, 0, 0], \n",
    "      [0, 0, 0, 1, 0, 0, 0, 0]]\n",
    "\n",
    "# afficher g13\n",
    "afficher_grille(g13, 8)\n",
    "\n",
    "# vérifier est_sauve() sur une case vide et affichage adapté\n",
    "if est_sauve(7, 7, g13, 8):\n",
    "    mes1 = message_case_vide\n",
    "else:\n",
    "    mes1 = message_case_non_vide\n",
    "\n",
    "# vérifier est_sauve() sur une case en vue de la reine et affichage adapté\n",
    "if est_sauve(1, 0, g13, 8): \n",
    "    mes2 = message_case_vide\n",
    "else:\n",
    "    mes2 = message_case_non_vide\n",
    "\n",
    "# vérifier est_sauve() sur la case de la reine et affichage adapté\n",
    "if est_sauve(1, 3, g13, 8):\n",
    "    mes3 = message_case_vide\n",
    "else:\n",
    "    mes3 = message_case_non_vide\n",
    "\n",
    "# vérifier est_sauve() sur une case hors de l'échiquier et affichage adapté\n",
    "if est_sauve(-1, 3, g13, 8):\n",
    "    mes4 = message_case_vide\n",
    "else:\n",
    "    mes4 = message_case_non_vide\n",
    "\n",
    "# affichages\n",
    "print(mes1)\n",
    "print(mes2)\n",
    "print(mes3)\n",
    "print(mes4)\n",
    "    \n",
    "# ENTRER VOTRE CODE A LA PLACE DE CES 2 LIGNES\n",
    "raise NotImplementedError()"
   ]
  },
  {
   "cell_type": "code",
   "execution_count": null,
   "metadata": {
    "deletable": false,
    "editable": false,
    "nbgrader": {
     "cell_type": "code",
     "checksum": "361763d348032b563d472ef2bb228caf",
     "grade": true,
     "grade_id": "cell-718c39bf2cedd284",
     "locked": true,
     "points": 1,
     "schema_version": 3,
     "solution": false,
     "task": false
    }
   },
   "outputs": [],
   "source": [
    "# Ne pas modifier cette cellule"
   ]
  },
  {
   "cell_type": "markdown",
   "metadata": {
    "deletable": false,
    "editable": false,
    "nbgrader": {
     "cell_type": "markdown",
     "checksum": "a3e5e7d83a34f40016f02ee38f708de0",
     "grade": false,
     "grade_id": "cell-e3437c3539ec5559",
     "locked": true,
     "schema_version": 3,
     "solution": false,
     "task": false
    }
   },
   "source": [
    "## `placer_reine( )`\n",
    "\n",
    "Ecrire la fonction `placer_reine( )` qui prend en paramètres la ligne et la colonne d'une case dans une grille (8x8) **vide ou non** aussi passée en paramètre.  \n",
    "\n",
    "Cette fonction peut modifier l'état de la grille si la case spécifiée en paramètre permet à une reine d'y être placée en sécurité. Dans ce cas, la fonction retourne la valeur entière `0`. Dans le cas contraire, la grille ne sera pas modifiée et la valeur `1` est retournée.\n",
    "\n",
    "_De façon exceptionnelle et temporaire_ et afin d'aider à la mise au point de vos développements, cette fonction effectue (en plus de son traitement) un affichage indiquant si la reine a pu être placée ou non. Cet affichage est contrôlé par le dernier paramètre booléen `aff` : la valeur par défaut `True` permet les affichages, et inversement.\n",
    "\n",
    "**Important** : Placer une reine **modifie plusieurs cases** de la grille.\n",
    "\n",
    "Voici un exemple de dix tentatives successives de placement sur un échiquier initialement vide.\n",
    "```\n",
    "la reine est bien placée en ( 7 , 2 )\n",
    "la reine est bien placée en ( 2 , 3 )\n",
    "la reine est bien placée en ( 6 , 4 )\n",
    "la reine n'a pas pu être placée en ( 6 , 5 )\n",
    "la reine n'a pas pu être placée en ( 7 , 7 )\n",
    "la reine est bien placée en ( 1 , 5 )\n",
    "la reine n'a pas pu être placée en ( 1 , 4 )\n",
    "la reine n'a pas pu être placée en ( 4 , 1 )\n",
    "la reine n'a pas pu être placée en ( 7 , 6 )\n",
    "la reine n'a pas pu être placée en ( 7 , 6 )\n",
    "```"
   ]
  },
  {
   "cell_type": "code",
   "execution_count": null,
   "metadata": {
    "deletable": false,
    "nbgrader": {
     "cell_type": "code",
     "checksum": "47d9312b4c95e0885896203d427d3b8e",
     "grade": false,
     "grade_id": "cell-afeefc3e906e8e35",
     "locked": false,
     "schema_version": 3,
     "solution": true,
     "task": false
    }
   },
   "outputs": [],
   "source": [
    "def placer_reine(ligne: int, colonne: int, grille: List[List[int]], dim: int = 8, aff: bool = True) -> int:\n",
    "    # ENTRER VOTRE CODE A LA PLACE DE CES 2 LIGNES\n",
    "    raise NotImplementedError()"
   ]
  },
  {
   "cell_type": "code",
   "execution_count": null,
   "metadata": {
    "deletable": false,
    "editable": false,
    "nbgrader": {
     "cell_type": "code",
     "checksum": "138dc19e87dc0d26c1bc8915e3dddd25",
     "grade": true,
     "grade_id": "cell-b318a9b4e5e34544",
     "locked": true,
     "points": 1,
     "schema_version": 3,
     "solution": false,
     "task": false
    }
   },
   "outputs": [],
   "source": [
    "# Ne pas modifier cette cellule"
   ]
  },
  {
   "cell_type": "markdown",
   "metadata": {
    "deletable": false,
    "editable": false,
    "nbgrader": {
     "cell_type": "markdown",
     "checksum": "0202f96a051840dcf4ef80d076271b7c",
     "grade": false,
     "grade_id": "cell-c14029290b61dbaf",
     "locked": true,
     "schema_version": 3,
     "solution": false,
     "task": false
    }
   },
   "source": [
    "### Test de `placer_reine()`\n",
    "\n",
    "Tester la fonction `placer_reine` en complétant le code ci-dessous selon le commentaire et les indications du `print()`. \n",
    "\n",
    "Effacer ou commenter la dernière ligne de la cellule pour qu'elle exécute vos tests sans déclencher d'erreur."
   ]
  },
  {
   "cell_type": "code",
   "execution_count": null,
   "metadata": {
    "deletable": false,
    "nbgrader": {
     "cell_type": "code",
     "checksum": "78bd0eee69e242cc2acb7fad4d0f289d",
     "grade": false,
     "grade_id": "cell-74e5b0113a678e66",
     "locked": false,
     "schema_version": 3,
     "solution": true,
     "task": false
    }
   },
   "outputs": [],
   "source": [
    "# définir la grille vide g0\n",
    "\n",
    "print(\"Sur une grille vide, on pose la reine dans la case (1,3), \\npuis dans (0,6) et dans (4,0) \\n\\\n",
    "en effectuant des affichages après chaque modification.\")\n",
    "\n",
    "# ENTRER VOTRE CODE A LA PLACE DE CES 2 LIGNES\n",
    "raise NotImplementedError()"
   ]
  },
  {
   "cell_type": "code",
   "execution_count": null,
   "metadata": {
    "deletable": false,
    "editable": false,
    "nbgrader": {
     "cell_type": "code",
     "checksum": "5fe8a2d74410e91155b285273800f520",
     "grade": true,
     "grade_id": "cell-14a213346f1d4319",
     "locked": true,
     "points": 1,
     "schema_version": 3,
     "solution": false,
     "task": false
    }
   },
   "outputs": [],
   "source": [
    "# Ne pas modifier cette cellule"
   ]
  },
  {
   "cell_type": "markdown",
   "metadata": {
    "deletable": false,
    "editable": false,
    "nbgrader": {
     "cell_type": "markdown",
     "checksum": "f889ef29332d7c144d677272098d089c",
     "grade": false,
     "grade_id": "cell-1754943facfd0a5a",
     "locked": true,
     "schema_version": 3,
     "solution": false,
     "task": false
    }
   },
   "source": [
    "## Vérification d'une solution\n",
    "\n",
    "Dans une solution du problème des huit reines, il y a une reine et une seule sur chaque ligne de l'échiquier.\n",
    "\n",
    "**Cette remarque est importante à plusieurs points de vue.** \n",
    "\n",
    "D'abord, une solution ou plus généralement une proposition de placement des reines, peut être représentée par **un tableau (1D) des indices des colonnes qui contiennent les reines, ligne après ligne**. \n",
    "\n",
    "Par exemple, la solution de l'image ci-dessous correspond au placement [3, 0, 4, 7, 1, 6, 2, 5]. Ainsi, la première reine est placée dans la case (0,3), la deuxième reine est placée dans la case (1,0), et la dernière reine est placée dans la case (7,5).\n",
    "\n",
    "![](huit-reines.png)\n",
    "\n",
    "A partir de maintenant, on va donc **représenter un placement de 8 reines avec un tel tableau 1D**."
   ]
  },
  {
   "cell_type": "markdown",
   "metadata": {
    "deletable": false,
    "editable": false,
    "nbgrader": {
     "cell_type": "markdown",
     "checksum": "2d18f95017eb1101570af0a39a092518",
     "grade": false,
     "grade_id": "cell-521a201f0b6cd95a",
     "locked": true,
     "schema_version": 3,
     "solution": false,
     "task": false
    }
   },
   "source": [
    "### Comprendre la représentation avec un tableau 1D\n",
    "\n",
    "Comment s'écrivent les cases $(i,j)$ des positions des 8 reines définies par un placement représenté avec un tel tableau 1D dénommé `c` ?"
   ]
  },
  {
   "cell_type": "markdown",
   "metadata": {
    "deletable": false,
    "nbgrader": {
     "cell_type": "markdown",
     "checksum": "fd20824df3a73ca9f177b9fec0a2c679",
     "grade": true,
     "grade_id": "cell-19e00a5b9401a0b4",
     "locked": false,
     "points": 1,
     "schema_version": 3,
     "solution": true,
     "task": false
    }
   },
   "source": [
    "> VOTRE REPONSE A LA PLACE DE CE TEXTE (format texte ou markdown)"
   ]
  },
  {
   "cell_type": "markdown",
   "metadata": {
    "deletable": false,
    "editable": false,
    "nbgrader": {
     "cell_type": "markdown",
     "checksum": "2c20be6fd57582fe3b9a798efd98a431",
     "grade": false,
     "grade_id": "cell-9bbdacf2319f7fb3",
     "locked": true,
     "schema_version": 3,
     "solution": false,
     "task": false
    }
   },
   "source": [
    "On va utiliser la fonction `placer_reine()` pour vérifier si un placement ainsi donné est, ou non, une solution du problème des 8 reines. \n",
    "Pour cela, une solution de vérification est de de _placer une à une chacune des reines de ce placement_, et ce tant que c'est possible.\n",
    "On rappelle que cette fonction `placer_reine()` s'appuie sur la mise à jour de l'état de la grille après qu'une reine ait été placée. \n",
    "\n",
    "\n",
    "### `verifier_placement( )`\n",
    "\n",
    "Ecrire la fonction `verifier_placement( )` qui prend en paramètre un placement des reines selon le format défini ci-dessus (une liste des 8 indices de colonnes) et une grille (8x8) _supposée vide._    \n",
    "Le traitement décrit plus haut __s'arrête dès qu'une reine du placement ne peut pas être posée de façon correcte.__  \n",
    "Cette fonction retourne le nombre des reines alors posées _de façon correcte_.  \n",
    "\n",
    "\n",
    "On ajoute le dernier paramètre `aff` pour contrôler dans cette vérification l'affichage (ou non) issu de `placer_reine()`.\n",
    "\n",
    "Au préalable, cette fonction vérifie que le placement passé en argument est de la longueur attendue."
   ]
  },
  {
   "cell_type": "code",
   "execution_count": null,
   "metadata": {
    "deletable": false,
    "nbgrader": {
     "cell_type": "code",
     "checksum": "1be17a8f0d6d622656099c94d6826e4a",
     "grade": false,
     "grade_id": "cell-6ad3bbc1ced929d6",
     "locked": false,
     "schema_version": 3,
     "solution": true,
     "task": false
    }
   },
   "outputs": [],
   "source": [
    "def verifier_placement(solution: List[int], grille: List[List[int]], dim: int = 8, aff: bool = True) -> int:\n",
    "    # ENTRER VOTRE CODE A LA PLACE DE CES 2 LIGNES\n",
    "    raise NotImplementedError()"
   ]
  },
  {
   "cell_type": "code",
   "execution_count": null,
   "metadata": {
    "deletable": false,
    "editable": false,
    "nbgrader": {
     "cell_type": "code",
     "checksum": "f390605d98876acb7466aaf721ed8201",
     "grade": true,
     "grade_id": "cell-e411c9cc13c2e571",
     "locked": true,
     "points": 3,
     "schema_version": 3,
     "solution": false,
     "task": false
    }
   },
   "outputs": [],
   "source": [
    "# Ne pas modifier cette cellule"
   ]
  },
  {
   "cell_type": "markdown",
   "metadata": {
    "deletable": false,
    "editable": false,
    "nbgrader": {
     "cell_type": "markdown",
     "checksum": "56511a8e8873fe24d88a778c17ac9671",
     "grade": false,
     "grade_id": "cell-502f9468f6059438",
     "locked": true,
     "schema_version": 3,
     "solution": false,
     "task": false
    }
   },
   "source": [
    "### Tests de `verifier_placement( )`\n",
    "\n",
    "#### Avec une solution valide\n",
    "\n",
    "Tester la fonction `verifier_placement( )` en complétant le code ci-dessous comme indiqué en commentaires.\n",
    "C'est-à-dire :  tester\n",
    "- la `solution` valide donnée,   \n",
    "- puis un placement non solution à définir de façon arbitraire ;\n",
    "- chaque test étant accompagné d'un affichage de contrôle adapté.\n",
    "\n",
    "Effacer ou commenter la dernière ligne de la cellule pour qu'elle exécute vos tests sans déclencher d'erreur."
   ]
  },
  {
   "cell_type": "code",
   "execution_count": null,
   "metadata": {
    "deletable": false,
    "nbgrader": {
     "cell_type": "code",
     "checksum": "a2a23a5d7c078a7a0edf4741e2edabcf",
     "grade": false,
     "grade_id": "cell-faf590de49365524",
     "locked": false,
     "schema_version": 3,
     "solution": true,
     "task": false
    }
   },
   "outputs": [],
   "source": [
    "# sur g0 grille vide à définir\n",
    "\n",
    "\n",
    "# tester la validité de la solution suivante\n",
    "solution = [3, 0, 4, 7, 1, 6, 2, 5]\n",
    "\n",
    "# verifier avec un affichage de contrôle\n",
    "\n",
    "# définir un placement arbitraire non valide\n",
    "\n",
    "# verifier avec un affichage de contrôle\n",
    "\n",
    "# tester sa non validité et afficher le nombre de reines correctement placées\n",
    "\n",
    "# verifier avec un affichage de contrôle\n",
    "\n",
    "# ENTRER VOTRE CODE A LA PLACE DE CES 2 LIGNES\n",
    "raise NotImplementedError()"
   ]
  },
  {
   "cell_type": "code",
   "execution_count": null,
   "metadata": {
    "deletable": false,
    "editable": false,
    "nbgrader": {
     "cell_type": "code",
     "checksum": "ec4856fd1f002b9410a764837bd3222b",
     "grade": true,
     "grade_id": "cell-9e7ee64e57ba9a51",
     "locked": true,
     "points": 1,
     "schema_version": 3,
     "solution": false,
     "task": false
    }
   },
   "outputs": [],
   "source": [
    "# Ne pas modifier cette cellule"
   ]
  },
  {
   "cell_type": "markdown",
   "metadata": {
    "deletable": false,
    "editable": false,
    "nbgrader": {
     "cell_type": "markdown",
     "checksum": "f7f50006452c68bb593c5ff9682ea9ca",
     "grade": false,
     "grade_id": "cell-91edbcc1cf97f832",
     "locked": true,
     "schema_version": 3,
     "solution": false,
     "task": false
    }
   },
   "source": [
    "# Trouver toutes les solutions \n",
    "\n",
    "\n",
    "On est maintenant capable de vérifier si un placement de 8 reines est une solution du problème. Attaquons-nous maintenant à trouver les 92 solutions du problème des 8 reines.\n",
    "\n",
    "Une solution serait de tester tous les placements possibles pour en extraire toutes les solutions cherchées. **Cette solution exhaustive s'avère** trop naïve et **inutilisable en pratique.**\n",
    "\n",
    "On a indiqué en début d'énoncé qu'il y avait plus de $178\\times 10^{12}$ placements possibles de 8 pièces sur l'échiquier classique (8x8). Compte-tenu de ce nombre gigantesque de placements possibles, cette approche va être trop coûteuse en temps. Imaginons qu'il faille 1 seconde pour tester la validité d'un placement, plus de 57000 *siècles* seraient nécessaires pour identifier les 92 solutions. Clairement hors de portée pour un humain. Il faudrait encore plus de 5 ans et demi en effectuant 1 million de tests par seconde, et quand même plus de 2 jours avec un milliard de tests par seconde -- ce qui correspond à une fréquence de test de 1 Ghz et qui nous rapproche clairement des fréquences limites de nos ordinateurs. Il faut donc chercher des algorithmes moins naïfs d'identification de solution. \n",
    "\n",
    "Mentionnons qu'[à ce jour](https://interstices.info/le-probleme-des-8-reines-et-au-dela/), la communauté informatique est bloquée à $n = 26$ pour trouver toutes les solutions du problème plus général des $n$ reines, et ce malgré des optimisations à la fois algorithmiques, logicielles et matérielles et plus de 10 mois de calculs (projet projet Queens@TUD, 2009).  "
   ]
  },
  {
   "cell_type": "markdown",
   "metadata": {
    "deletable": false,
    "editable": false,
    "nbgrader": {
     "cell_type": "markdown",
     "checksum": "c81edd57b2148c9eb9604c4250f5fe77",
     "grade": false,
     "grade_id": "cell-2d4465d1de71c189",
     "locked": true,
     "schema_version": 3,
     "solution": false,
     "task": false
    }
   },
   "source": [
    "## ($\\star$) Réduire le nombre de tous les placements possibles\n",
    "\n",
    "Pour 8 reines, commençons par une solution un peu moins naïve et envisageable sur nos ordinateurs. \n",
    "\n",
    "Comme nous l'avons déjà remarqué, chaque solution du problème des huit reines peut être représentée par une liste de 8 valeurs, _i.e._ un tableau (1D) des indices des colonnes qui contiennent les reines, ligne après ligne. Cette représentation exploite la propriété qu'**une solution a exactement**  une reine sur chaque ligne -- ni plus, ni moins (sinon, un tableau 1D de 8 cases n'aurait pas été adapté).\n",
    "\n",
    "Par symétrie, il doit y avoir **exactement aussi**  une reine sur chaque colonne pour une solution. \n",
    "On peut donc réduire la recherche des solutions à l'ensemble de tous les placements (solutions _et_ non solutions) obtenus par _la permutation des éléments de la liste `[0,1,2,3,4,5,6,7]`._ \n",
    "On évite ainsi les répétitions inutiles de colonnes. \n",
    "\n",
    "Ainsi **par construction**, on assure la vérification des conditions de ligne et de colonne d'une solution du problème. Il ne restera plus qu'à s'assurer de la condition sur les diagonales.\n",
    "Il n'y a plus que $8! = 40320$ placements (ainsi simplifiés) différents à tester.\n",
    "Voilà qui est raisonnable !\n",
    "On a réduit l'ordre de grandeur du nombre de placements à vérifier de $10^{14}$ à $10^{5}$.\n",
    "Et c'est ce que nous allons faire dans un premier temps."
   ]
  },
  {
   "cell_type": "markdown",
   "metadata": {
    "deletable": false,
    "editable": false,
    "nbgrader": {
     "cell_type": "markdown",
     "checksum": "eb5cfb46e1e7307aff8c069fd457193e",
     "grade": false,
     "grade_id": "cell-ca2402b5252f4458",
     "locked": true,
     "schema_version": 3,
     "solution": false,
     "task": false
    }
   },
   "source": [
    "### ($\\star$) Permuter $n$ valeurs\n",
    "\n",
    "Nous utiliserons la fonction `permutations()` du module `itertools`. \n",
    "\n",
    "Cette fonction génère (\\*) toutes les permutations possibles des éléments d'une liste donnée en argument.  \n",
    "Voir l'exemple ci-dessous."
   ]
  },
  {
   "cell_type": "code",
   "execution_count": null,
   "metadata": {
    "deletable": false,
    "editable": false,
    "nbgrader": {
     "cell_type": "code",
     "checksum": "81ad52da76f39002448eb895701f879a",
     "grade": false,
     "grade_id": "cell-a4775398dd9b34bc",
     "locked": true,
     "schema_version": 3,
     "solution": false,
     "task": false
    }
   },
   "outputs": [],
   "source": [
    "import itertools\n",
    "\n",
    "# toutes les permutations du triplet (1, 2, 3)\n",
    "les_permutations = itertools.permutations([1,2,3])\n",
    "\n",
    "# affichage de chacune de ces permutations\n",
    "# noter que cette itération (sur les valeurs de les_permutations) n'utilise aucun indice\n",
    "for perm in les_permutations:\n",
    "    print(perm)"
   ]
  },
  {
   "cell_type": "markdown",
   "metadata": {
    "deletable": false,
    "editable": false,
    "nbgrader": {
     "cell_type": "markdown",
     "checksum": "745666bea32f7366eadaf8e8fa4b6d22",
     "grade": false,
     "grade_id": "cell-7c0e2eb97bcc447f",
     "locked": true,
     "schema_version": 3,
     "solution": false,
     "task": false
    }
   },
   "source": [
    "(\\*) **ATTENTION : Deux précisions importantes**\n",
    "\n",
    "**Précision 1**\n",
    "\n",
    "Le résultat `les_permutations` est un objet python un peu particulier et non encore étudié.\n",
    "\n",
    "C'est un _itérable_. \n",
    "C-a-d. un ensemble de valeurs `v` auxquelles on peut accéder avec la répétition `for v in iterable`.  \n",
    "- Vous connaissez déjà (au moins) un itérable : le résultat de la fonction `range()`.  \n",
    "\n",
    "En revanche, cet ensemble de valeurs **n'est pas** _indexable_ comme le sont par exemple `list`, `tuple`, `str`.\n",
    "- Un indexable \"possède\" un indice, un itérable n'a pas d'indice.\n",
    "- Donc certains traitements habituels des indexables ne s'appliquent pas aux itérables : \n",
    "    - comme bien sûr l'accès par indice(s) `[ ]`,  \n",
    "    - mais aussi la fonction `len()`  \n",
    "    - et d'autres -- ce qui peut surprendre ou lever des exceptions."
   ]
  },
  {
   "cell_type": "code",
   "execution_count": null,
   "metadata": {
    "deletable": false,
    "editable": false,
    "nbgrader": {
     "cell_type": "code",
     "checksum": "6bc965fd7e7bd3221fbcf1c3dd8adb1f",
     "grade": false,
     "grade_id": "cell-eb3efe59cda1a98d",
     "locked": true,
     "schema_version": 3,
     "solution": false,
     "task": false
    }
   },
   "outputs": [],
   "source": [
    "# les instructions suivantes lèvent des exceptions\n",
    "# vous pouvez dé-commenter les lignes si vous souhaitez l'observer \n",
    "\n",
    "#l = len(les_permutations)\n",
    "#une_permutation = les_permutations[0]\n",
    "#la_derniere = les_permutations[-1]\n",
    "\n",
    "# détail : type et introspection   \n",
    "print(type(les_permutations), id(les_permutations))"
   ]
  },
  {
   "cell_type": "markdown",
   "metadata": {
    "deletable": false,
    "editable": false,
    "nbgrader": {
     "cell_type": "markdown",
     "checksum": "2c80898edc42ce9430150b66982bc492",
     "grade": false,
     "grade_id": "cell-18a5ab7be0078d99",
     "locked": true,
     "schema_version": 3,
     "solution": false,
     "task": false
    }
   },
   "source": [
    "**Précision 2**\n",
    "\n",
    "Cet ensemble de valeurs (`les_permutations`) est en fait un _flux_ de valeurs.\n",
    "\n",
    "- Une fois créé, ce flux ne se parcourt _qu'une seule fois_.      \n",
    "- Si besoin, il faut donc dupliquer ou re-générer ce flux pour le parcourir à nouveau."
   ]
  },
  {
   "cell_type": "code",
   "execution_count": null,
   "metadata": {
    "deletable": false,
    "editable": false,
    "nbgrader": {
     "cell_type": "code",
     "checksum": "2112f429f259eedb82ec714b58c3e169",
     "grade": false,
     "grade_id": "cell-f272507ae5b4d462",
     "locked": true,
     "schema_version": 3,
     "solution": false,
     "task": false
    }
   },
   "outputs": [],
   "source": [
    "# le traitement suivant ne donnera rien : le flux a déjà été parcouru\n",
    "print(\"On essaie de ré-utiliser l'itérable :\")\n",
    "for perm in les_permutations:\n",
    "    print(perm)  \n",
    "print(\"Humm ... pas grand chose. \\n\")\n",
    "\n",
    "# On recommence en commançant par créer un nouvel itérable\n",
    "les_permutations = itertools.permutations([1,2,3]) # on a pris le même identifiant\n",
    "print(\"On régénère un autre itérable :\")\n",
    "for perm in les_permutations:\n",
    "    print(perm)"
   ]
  },
  {
   "cell_type": "markdown",
   "metadata": {
    "deletable": false,
    "editable": false,
    "nbgrader": {
     "cell_type": "markdown",
     "checksum": "323315ad4dbe2886ea20b639b00e3852",
     "grade": false,
     "grade_id": "cell-de69f5e521e66864",
     "locked": true,
     "schema_version": 3,
     "solution": false,
     "task": false
    }
   },
   "source": [
    "- Pour plus de détails se référer à (https://docs.python.org/fr/3.7/glossary.html#term-iterator) "
   ]
  },
  {
   "cell_type": "markdown",
   "metadata": {
    "deletable": false,
    "editable": false,
    "nbgrader": {
     "cell_type": "markdown",
     "checksum": "20bed1f3998e1a285825bc2277f5c0f1",
     "grade": false,
     "grade_id": "cell-994a8d8a35427b5a",
     "locked": true,
     "schema_version": 3,
     "solution": false,
     "task": false
    }
   },
   "source": [
    "### ($\\star\\star$) `generer_placements( )`\n",
    "\n",
    "En utilisant `itertools.permutations()`, écrire la fonction `generer_placements( )` qui retourne l'ensemble des placements possibles (solutions et non solutions) du problème des huit reines.\n",
    "Cet ensemble sera représenté sous la forme d'_une  liste de listes de 8 entiers_. Chaque liste de 8 entiers étant une permutation de la liste `[0,1,2,3,4,5,6,7]`.\n",
    "\n",
    "**Note** : \n",
    "- On rappelle que `itertools.permutations` retourne un itérable. \n",
    "- Des étapes d'introspection seront utiles pour obtenir la liste de listes de 8 entiers attendue."
   ]
  },
  {
   "cell_type": "code",
   "execution_count": null,
   "metadata": {
    "deletable": false,
    "nbgrader": {
     "cell_type": "code",
     "checksum": "0a78c774d0156cd85755b4045f03bc46",
     "grade": false,
     "grade_id": "cell-cf3440b65260c62e",
     "locked": false,
     "schema_version": 3,
     "solution": true,
     "task": false
    }
   },
   "outputs": [],
   "source": [
    "def generer_placements(dim = 8) -> List[List[int]]:\n",
    "    # ENTRER VOTRE CODE A LA PLACE DE CES 2 LIGNES\n",
    "    raise NotImplementedError()"
   ]
  },
  {
   "cell_type": "markdown",
   "metadata": {
    "deletable": false,
    "editable": false,
    "nbgrader": {
     "cell_type": "markdown",
     "checksum": "48aaf666c95a3140b4665724d56a57bc",
     "grade": false,
     "grade_id": "cell-8bf82e6392fd719f",
     "locked": true,
     "schema_version": 3,
     "solution": false,
     "task": false
    }
   },
   "source": [
    "### Test de `generer_placements( )`\n",
    "\n",
    "Tester la fonction `generer_placements( )` avec le code ci-dessous."
   ]
  },
  {
   "cell_type": "code",
   "execution_count": null,
   "metadata": {
    "deletable": false,
    "editable": false,
    "nbgrader": {
     "cell_type": "code",
     "checksum": "81c1891955a6960398af822266c7d69b",
     "grade": true,
     "grade_id": "cell-2a978f0ccb9fbb4f",
     "locked": true,
     "points": 3,
     "schema_version": 3,
     "solution": false,
     "task": false
    }
   },
   "outputs": [],
   "source": [
    "# Exécuter cette cellule sans la modifier, ni écrire dedans\n",
    "# Son exécution ne doit pas déclencher d'erreur \n",
    "placements_8_pieces = generer_placements(8)\n",
    "\n",
    "assert len(placements_8_pieces) == 40320"
   ]
  },
  {
   "cell_type": "markdown",
   "metadata": {
    "deletable": false,
    "editable": false,
    "nbgrader": {
     "cell_type": "markdown",
     "checksum": "a99a3acbb125edb513c90c193a81c34c",
     "grade": false,
     "grade_id": "cell-f1f04990663a770e",
     "locked": true,
     "schema_version": 3,
     "solution": false,
     "task": false
    }
   },
   "source": [
    "## Une condition de validité complètement formalisée\n",
    "\n",
    "Avec la représentation ainsi définie, il suffit maintenant de vérifier la condition sur les diagonales des différentes positions des reines d'un placement ainsi donné.\n",
    "\n",
    "On va expliciter une condition de validité du placement défini par ce tableau 1D (de longueur 8) _sans construire, ni mettre à jour_ une représentation de l'échiquier. \n",
    "C-a-d. sans utiliser les fonctions développées dans la [section 2](#Etapes-vers-une-solution-du-probleme).     \n",
    "\n",
    "Notons `c` le tableau 1D d'un placement obtenu par permutation des entiers 0..7.\n",
    "Ce tableau vérifie par construction les conditions de \"ligne et colonne unique\" :\n",
    "- `0 <= c[i] < 8` pour `0 <= i < 8`  \n",
    "- `c[k] != c[i]` pour `0 <= i < k < 8`\n",
    "\n",
    "La condition sur les diagonales d'_une solution_ décrite par le placement `c` s'écrit aussi :\n",
    "- `c[i] != c[k] - (k-i)` pour `0 <= i < k < 8` \n",
    "- `c[i] != c[k] + (k-i)` pour `0 <= i < k < 8`\n",
    "\n",
    "Ces conditions utilisent la propriété suivante : une reine précédemment placée à la ligne $i$ ne doit pas être sur une des deux diagonales issues de la case $(k, c(k))$. \n",
    "Par exemple à la ligne précédente $k-1$, la ($k-1$)-ème reine ne doit ni être en colonne $c(k) -1$, ni en colonne $c(k) +1$. La position de la  ($k-1$)-ème reine étant connue grâce au tableau `c`.  Et ainsi de suite pour les lignes précédentes.\n",
    "\n",
    "\n",
    "### `verif_diag()`\n",
    "\n",
    "Ecrire la fonction `verif_diag()` qui prend en paramètre un tableau 1D de longueur 8 qui représente une permutation des entiers 0..7 et retourne un booléen résultat de la vérification de la condition sur les diagonales. "
   ]
  },
  {
   "cell_type": "code",
   "execution_count": null,
   "metadata": {
    "deletable": false,
    "nbgrader": {
     "cell_type": "code",
     "checksum": "a936c1ceba9133f90d3709ff81bf09c4",
     "grade": false,
     "grade_id": "cell-f4f9cc5d97ca5891",
     "locked": false,
     "schema_version": 3,
     "solution": true,
     "task": false
    }
   },
   "outputs": [],
   "source": [
    "def verif_diag(c : List[int], dim: int = 8) -> bool:\n",
    "    # ENTRER VOTRE CODE A LA PLACE DE CES 2 LIGNES\n",
    "    raise NotImplementedError()"
   ]
  },
  {
   "cell_type": "code",
   "execution_count": null,
   "metadata": {
    "deletable": false,
    "editable": false,
    "nbgrader": {
     "cell_type": "code",
     "checksum": "5deaf0734c21048927176c3b4c6f05e9",
     "grade": true,
     "grade_id": "cell-c6a5a8d420b927d6",
     "locked": true,
     "points": 2,
     "schema_version": 3,
     "solution": false,
     "task": false
    }
   },
   "outputs": [],
   "source": [
    "# Ne pas modifier cette cellule"
   ]
  },
  {
   "cell_type": "markdown",
   "metadata": {
    "deletable": false,
    "editable": false,
    "nbgrader": {
     "cell_type": "markdown",
     "checksum": "1c27af3862e693c2e968ab431b2b45b1",
     "grade": false,
     "grade_id": "cell-03a145003b501836",
     "locked": true,
     "schema_version": 3,
     "solution": false,
     "task": false
    }
   },
   "source": [
    "### Test de `verif_diag( )`\n",
    "\n",
    "Tester la fonction `verif_diag( )` avec le code ci-dessous."
   ]
  },
  {
   "cell_type": "code",
   "execution_count": null,
   "metadata": {
    "deletable": false,
    "editable": false,
    "nbgrader": {
     "cell_type": "code",
     "checksum": "e4e31c28ae92dc7a3ee15b1d4f14cc4a",
     "grade": false,
     "grade_id": "cell-0d10ef1af27bafca",
     "locked": true,
     "schema_version": 3,
     "solution": false,
     "task": false
    }
   },
   "outputs": [],
   "source": [
    "# Exécuter cette cellule sans la modifier, ni écrire dedans\n",
    "# Son exécution ne doit pas déclencher d'erreur \n",
    "tentative = [i for i in range(8)]\n",
    "assert verif_diag(tentative, 8) == False\n",
    "\n",
    "solution = [3, 0, 4, 7, 1, 6, 2, 5]\n",
    "assert verif_diag(solution, 8) == True"
   ]
  },
  {
   "cell_type": "markdown",
   "metadata": {
    "deletable": false,
    "editable": false,
    "nbgrader": {
     "cell_type": "markdown",
     "checksum": "cf7a236d67489247a96bdaa0999ab560",
     "grade": false,
     "grade_id": "cell-6149f953a536f0b6",
     "locked": true,
     "schema_version": 3,
     "solution": false,
     "task": false
    }
   },
   "source": [
    "## Les solutions\n",
    "\n",
    "### `solutions( )`\n",
    "\n",
    "A partir des deux fonctions précédentes, écrire la fonction `solutions( )` qui calcule et retourne la liste des solutions du problème des huit reines. "
   ]
  },
  {
   "cell_type": "code",
   "execution_count": null,
   "metadata": {
    "deletable": false,
    "nbgrader": {
     "cell_type": "code",
     "checksum": "3abfa76294cbe07bb3b5499084828712",
     "grade": false,
     "grade_id": "cell-d7e5f891cb69bb3b",
     "locked": false,
     "schema_version": 3,
     "solution": true,
     "task": false
    }
   },
   "outputs": [],
   "source": [
    "def solutions(nbreines: int = 8) -> List[int]:\n",
    "    # ENTRER VOTRE CODE A LA PLACE DE CES 2 LIGNES\n",
    "    raise NotImplementedError()"
   ]
  },
  {
   "cell_type": "code",
   "execution_count": null,
   "metadata": {
    "deletable": false,
    "editable": false,
    "nbgrader": {
     "cell_type": "code",
     "checksum": "2b4e35292631860ad42e1475ce2be6f5",
     "grade": true,
     "grade_id": "cell-209c4cf21ac3baeb",
     "locked": true,
     "points": 2,
     "schema_version": 3,
     "solution": false,
     "task": false
    }
   },
   "outputs": [],
   "source": [
    "# Ne pas modifier cette cellule"
   ]
  },
  {
   "cell_type": "markdown",
   "metadata": {
    "deletable": false,
    "editable": false,
    "nbgrader": {
     "cell_type": "markdown",
     "checksum": "cab23d2667982cac1ce7aff3bd7af0d2",
     "grade": false,
     "grade_id": "cell-975393cfae1c3672",
     "locked": true,
     "schema_version": 3,
     "solution": false,
     "task": false
    }
   },
   "source": [
    "### Test de `solutions( )`\n",
    "\n",
    "La fonction `solutions` doit retourner  les 92 solutions du problèmes des 8 reines annoncées en début d'exercice.  \n",
    "\n",
    "**Indication.** La formalisation précédente permet un traitement instantané du problème des 8 reines. \n",
    "Si votre traitement est trop long (ce qui ne devrait pas être le cas), sachez qu'il n'y a que 2 solutions au problème des **4** reines, _i.e._ placement de 4 reines sur un échiquier de taille 4x4. \n",
    "\n",
    "Les deux cellules suivantes doivent s'exécuter sans erreur."
   ]
  },
  {
   "cell_type": "code",
   "execution_count": null,
   "metadata": {
    "deletable": false,
    "editable": false,
    "nbgrader": {
     "cell_type": "code",
     "checksum": "913377181a1ee7dfe9fe6ee8d6d55544",
     "grade": false,
     "grade_id": "cell-c23b794150d9c8bd",
     "locked": true,
     "schema_version": 3,
     "solution": false,
     "task": false
    }
   },
   "outputs": [],
   "source": [
    "# Exécuter cette cellule sans la modifier, ni écrire dedans\n",
    "# Son exécution ne doit pas déclencher d'erreur \n",
    "\n",
    "assert len(solutions(4)) == 2"
   ]
  },
  {
   "cell_type": "code",
   "execution_count": null,
   "metadata": {
    "deletable": false,
    "editable": false,
    "nbgrader": {
     "cell_type": "code",
     "checksum": "76c0ce0e46c3ffe8e1b8c2db501543d5",
     "grade": false,
     "grade_id": "cell-89e1fe8373985fc1",
     "locked": true,
     "schema_version": 3,
     "solution": false,
     "task": false
    }
   },
   "outputs": [],
   "source": [
    "# Exécuter cette cellule sans la modifier, ni écrire dedans\n",
    "# Son exécution ne doit pas déclencher d'erreur \n",
    "\n",
    "assert len(solutions(8)) == 92"
   ]
  },
  {
   "cell_type": "markdown",
   "metadata": {
    "deletable": false,
    "editable": false,
    "nbgrader": {
     "cell_type": "markdown",
     "checksum": "87def4898654eee16d9ee0bb3a766193",
     "grade": false,
     "grade_id": "cell-7316d3350ab10e27",
     "locked": true,
     "schema_version": 3,
     "solution": false,
     "task": false
    }
   },
   "source": [
    "# ($\\star$) Généralisation à $n$ reines\n",
    "\n",
    "Le problème des 8 reines peut être étendu à un échiquier de taille arbitraire `n x n`.  \n",
    "Il devient le problème des `n` reines."
   ]
  },
  {
   "cell_type": "markdown",
   "metadata": {
    "deletable": false,
    "editable": false,
    "nbgrader": {
     "cell_type": "markdown",
     "checksum": "8d4f227ccd412653112201a494f6b4b3",
     "grade": false,
     "grade_id": "cell-6b93e9f3c31f1229",
     "locked": true,
     "schema_version": 3,
     "solution": false,
     "task": false
    }
   },
   "source": [
    "## Nombres de solutions\n",
    "\n",
    "Après avoir repris les développements précédents, en les recopiants et les modifiants en introduisant un paramètre `dim` qui permet d'effectuer les traitements similaires sur une grille de taille arbitraire `dim x dim`, observer l'évolution du nombre de solutions pour `dim`=$n$  variant, par exemple, de 4 à 10.  \n",
    "\n",
    "**Rmq.** Valider ses développements avant de lancer les cas coûteux en temps d'exécution.  \n",
    "\n",
    "Par exemple sur ma machine :\n",
    "- moins de 5 secondes pour toutes les solutions des problèmes de 4 à 9 reines  \n",
    "- environ 2 minutes pour les solutions du problèmes des 10 reines "
   ]
  },
  {
   "cell_type": "markdown",
   "metadata": {
    "deletable": false,
    "editable": false,
    "nbgrader": {
     "cell_type": "markdown",
     "checksum": "9a85a731f516e887ab47f95cc2a1478e",
     "grade": false,
     "grade_id": "cell-37380a4b07210447",
     "locked": true,
     "schema_version": 3,
     "solution": false,
     "task": false
    }
   },
   "source": [
    "Après un temps _un peu long_, vous obtiendrez par exemple :\n",
    "```\n",
    "2 solutions pour le problème des 4 reines\n",
    "10 solutions pour le problème des 5 reines\n",
    "4 solutions pour le problème des 6 reines\n",
    "40 solutions pour le problème des 7 reines\n",
    "92 solutions pour le problème des 8 reines\n",
    "352 solutions pour le problème des 9 reines\n",
    "724 solutions pour le problème des 10 reines\n",
    "```"
   ]
  },
  {
   "cell_type": "code",
   "execution_count": null,
   "metadata": {
    "deletable": false,
    "nbgrader": {
     "cell_type": "code",
     "checksum": "b66cd909659725eb1aafc29deacfa9d6",
     "grade": true,
     "grade_id": "cell-d9c5790b6819f6eb",
     "locked": false,
     "points": 4,
     "schema_version": 3,
     "solution": true,
     "task": false
    }
   },
   "outputs": [],
   "source": [
    "# ENTRER VOTRE CODE A LA PLACE DE CES 2 LIGNES\n",
    "raise NotImplementedError()"
   ]
  },
  {
   "cell_type": "markdown",
   "metadata": {
    "deletable": false,
    "editable": false,
    "nbgrader": {
     "cell_type": "markdown",
     "checksum": "dfaa1266c218a9bfab0bb33925a1e4c8",
     "grade": false,
     "grade_id": "cell-9f27ed5a7974c0df",
     "locked": true,
     "schema_version": 3,
     "solution": false,
     "task": false
    }
   },
   "source": [
    "##  Complexité : analyse expérimentale\n",
    "\n",
    "On va observer expérimentalement l'évolution de certaines caractéristiques du problème des $n$ reines et de notre algorithme (pas tout à fait) naïf _lorsque n augmente_ -- de façon raisonnable vu les temps que l'on vient de constater.\n",
    "\n",
    "\n",
    "### Comptons\n",
    "\n",
    "Les 3 quantités suivantes sont significatives :  \n",
    "1. le nombre de placements compatibles avec la condition sur les lignes et les colonnes, c-a-d. issus de la permutation des entiers de 0..$n-1$,\n",
    "2. le nombre de solutions trouvées, \n",
    "3. le temps moyen pour les obtenir. \n",
    "\n",
    "Compléter le traitement précédent de façon à obtenir ces trois quantités quand $n$ varie de 4 à 10 au maximum (au moins aujourd'hui).\n",
    "\n",
    "Les résultats de chaque quantité (quand $n$ varie de 4 à 10) seront stockés dans des listes python en prévision de leurs tracés avec `matplotlib` aux questions qui suivront.\n",
    "\n",
    "**Attention.** \n",
    "- Relire à nouveau la [description des itérateurs](#Permuter) "
   ]
  },
  {
   "cell_type": "code",
   "execution_count": null,
   "metadata": {
    "deletable": false,
    "nbgrader": {
     "cell_type": "code",
     "checksum": "8aa575705615bb2e7011f57b0f19360c",
     "grade": true,
     "grade_id": "cell-21e43f6e0696ffef",
     "locked": false,
     "points": 2,
     "schema_version": 3,
     "solution": true,
     "task": false
    }
   },
   "outputs": [],
   "source": [
    "import time\n",
    "import math\n",
    "\n",
    "# ENTRER VOTRE CODE A LA PLACE DE CES 2 LIGNES\n",
    "raise NotImplementedError()"
   ]
  },
  {
   "cell_type": "markdown",
   "metadata": {
    "deletable": false,
    "editable": false,
    "nbgrader": {
     "cell_type": "markdown",
     "checksum": "98c4ad56c2a1b7c4278c9dacf4b400b2",
     "grade": false,
     "grade_id": "cell-88c6a2d8d0ef8d65",
     "locked": true,
     "schema_version": 3,
     "solution": false,
     "task": false
    }
   },
   "source": [
    "### Traçons\n",
    "\n",
    "Nous utilisons maintenant le module `pyplot` pour tracer les décomptes précédents sous forme de courbes d'évolution. \n",
    "\n",
    "A partir des résultats calculés précédemment, écrire les traitements qui affichent les courbes suivantes.\n",
    "\n",
    "Profiter de la souplesse de `pyplot` pour indiquer un titre, les légendes des courbes tracées, des axes ...\n",
    "Voici un exemple de tracé attendu : \n",
    "![nombre de placements possibles](./nbplacements.png)"
   ]
  },
  {
   "cell_type": "markdown",
   "metadata": {
    "deletable": false,
    "editable": false,
    "nbgrader": {
     "cell_type": "markdown",
     "checksum": "d9273beeae5bf6980327fdc364aec0cd",
     "grade": false,
     "grade_id": "cell-393462db0194ad40",
     "locked": true,
     "schema_version": 3,
     "solution": false,
     "task": false
    }
   },
   "source": [
    "En fonction du nombre $n$ de reines à placer ($n$ varie de 4 à 10), tracera d'abord les courbes :\n",
    "\n",
    "1. du nombre de placements \"compatibles ligne+colonne\" possibles issus de la permutation des entiers 0..$n-1$, \n",
    "2. du nombre de solutions trouvées, \n",
    "3. du temps moyen pour les obtenir."
   ]
  },
  {
   "cell_type": "markdown",
   "metadata": {
    "deletable": false,
    "editable": false,
    "nbgrader": {
     "cell_type": "markdown",
     "checksum": "aa9602c64136e676a321b5f45ce4824a",
     "grade": false,
     "grade_id": "cell-4b0af38d4edcc893",
     "locked": true,
     "schema_version": 3,
     "solution": false,
     "task": false
    }
   },
   "source": [
    "### Courbe 1 : nombre de placements \"compatibles ligne+colonne\" par rapport au nombre de reines"
   ]
  },
  {
   "cell_type": "code",
   "execution_count": null,
   "metadata": {
    "deletable": false,
    "nbgrader": {
     "cell_type": "code",
     "checksum": "0b5a83398b36b70c0a4e0dc237bb4e22",
     "grade": true,
     "grade_id": "cell-db029336d097d29c",
     "locked": false,
     "points": 1,
     "schema_version": 3,
     "solution": true,
     "task": false
    }
   },
   "outputs": [],
   "source": [
    "# ENTRER VOTRE CODE A LA PLACE DE CES 2 LIGNES\n",
    "raise NotImplementedError()"
   ]
  },
  {
   "cell_type": "markdown",
   "metadata": {
    "deletable": false,
    "editable": false,
    "nbgrader": {
     "cell_type": "markdown",
     "checksum": "da5a6cf7a97bbe5895223023dd559ff1",
     "grade": false,
     "grade_id": "cell-91ceeedc862a6f3c",
     "locked": true,
     "schema_version": 3,
     "solution": false,
     "task": false
    }
   },
   "source": [
    "### Courbe 2 : nombre de solutions trouvées par rapport au nombre de reines"
   ]
  },
  {
   "cell_type": "code",
   "execution_count": null,
   "metadata": {
    "deletable": false,
    "nbgrader": {
     "cell_type": "code",
     "checksum": "6e19cec2f724d97fa89a10680513e95a",
     "grade": true,
     "grade_id": "cell-32c889ecdd099e1a",
     "locked": false,
     "points": 1,
     "schema_version": 3,
     "solution": true,
     "task": false
    }
   },
   "outputs": [],
   "source": [
    "# ENTRER VOTRE CODE A LA PLACE DE CES 2 LIGNES\n",
    "raise NotImplementedError()"
   ]
  },
  {
   "cell_type": "markdown",
   "metadata": {
    "deletable": false,
    "editable": false,
    "nbgrader": {
     "cell_type": "markdown",
     "checksum": "d7e8918233d7685dfc7b78d2b62a315d",
     "grade": false,
     "grade_id": "cell-a3badb3755ef7912",
     "locked": true,
     "schema_version": 3,
     "solution": false,
     "task": false
    }
   },
   "source": [
    "### Courbe 3 : temps d'exécution par rapport au nombre de reines"
   ]
  },
  {
   "cell_type": "code",
   "execution_count": null,
   "metadata": {
    "deletable": false,
    "nbgrader": {
     "cell_type": "code",
     "checksum": "19306ed1686a6e9c6a4ceb60dfe476da",
     "grade": true,
     "grade_id": "cell-e0c84245743b2a95",
     "locked": false,
     "points": 1,
     "schema_version": 3,
     "solution": true,
     "task": false
    }
   },
   "outputs": [],
   "source": [
    "# ENTRER VOTRE CODE A LA PLACE DE CES 2 LIGNES\n",
    "raise NotImplementedError()"
   ]
  },
  {
   "cell_type": "markdown",
   "metadata": {
    "deletable": false,
    "editable": false,
    "nbgrader": {
     "cell_type": "markdown",
     "checksum": "fa03125274a5eec604b7e382c35617fd",
     "grade": false,
     "grade_id": "cell-5be1f7f8f3328417",
     "locked": true,
     "schema_version": 3,
     "solution": false,
     "task": false
    }
   },
   "source": [
    "### Autres courbes et analyse \n",
    "\n",
    "A l'aide de nouveaux tracés, en particulier de ratios entre les différentes quantités jusque-là observées, effectuer une analyse de la difficulté de résoudre le problème des $n$ reines, de l'intérêt et des limites de l'algorithme \"pas tout à fait\" naïf utilisé pour déterminer toutes les solutions. \n",
    "\n"
   ]
  },
  {
   "cell_type": "code",
   "execution_count": null,
   "metadata": {
    "deletable": false,
    "nbgrader": {
     "cell_type": "code",
     "checksum": "200b25db38d4855d6e56949806b297ac",
     "grade": true,
     "grade_id": "cell-af3d742d050102a2",
     "locked": false,
     "points": 2,
     "schema_version": 3,
     "solution": true,
     "task": false
    }
   },
   "outputs": [],
   "source": [
    "# ENTRER VOTRE CODE A LA PLACE DE CES 2 LIGNES\n",
    "raise NotImplementedError()"
   ]
  },
  {
   "cell_type": "markdown",
   "metadata": {
    "deletable": false,
    "nbgrader": {
     "cell_type": "markdown",
     "checksum": "da535c5d92b9c4b6b04699dd553f783d",
     "grade": true,
     "grade_id": "cell-0a390a074e49221a",
     "locked": false,
     "points": 2,
     "schema_version": 3,
     "solution": true,
     "task": false
    }
   },
   "source": [
    "**Votre analyse :**\n",
    "\n",
    "> VOTRE REPONSE A LA PLACE DE CE TEXTE (format texte ou markdown)"
   ]
  }
 ],
 "metadata": {
  "kernelspec": {
   "display_name": "Python 3 (ipykernel)",
   "language": "python",
   "name": "python3"
  },
  "language_info": {
   "codemirror_mode": {
    "name": "ipython",
    "version": 3
   },
   "file_extension": ".py",
   "mimetype": "text/x-python",
   "name": "python",
   "nbconvert_exporter": "python",
   "pygments_lexer": "ipython3",
   "version": "3.9.6"
  },
  "latex_envs": {
   "LaTeX_envs_menu_present": true,
   "autoclose": false,
   "autocomplete": true,
   "bibliofile": "biblio.bib",
   "cite_by": "apalike",
   "current_citInitial": 1,
   "eqLabelWithNumbers": true,
   "eqNumInitial": 1,
   "hotkeys": {
    "equation": "Ctrl-E",
    "itemize": "Ctrl-I"
   },
   "labels_anchors": false,
   "latex_user_defs": false,
   "report_style_numbering": true,
   "user_envs_cfg": false
  },
  "toc": {
   "nav_menu": {},
   "number_sections": true,
   "sideBar": true,
   "skip_h1_title": false,
   "title_cell": "Table des matières",
   "title_sidebar": "TdM",
   "toc_cell": true,
   "toc_position": {
    "height": "539px",
    "left": "10px",
    "top": "150px",
    "width": "202.99632263183594px"
   },
   "toc_section_display": true,
   "toc_window_display": true
  }
 },
 "nbformat": 4,
 "nbformat_minor": 4
}

{
 "cells": [
  {
   "cell_type": "markdown",
   "metadata": {},
   "source": [
    "Dans la cellule suivante, indiquer dans cet ordre : votre NOM, votre Prénom, votre Objectif (10 ou 20)."
   ]
  },
  {
   "cell_type": "markdown",
   "metadata": {},
   "source": [
    " "
   ]
  },
  {
   "cell_type": "markdown",
   "metadata": {},
   "source": [
    "**Devoir de février 2021**.\n",
    "\n",
    "- Vous devez déposer sous moodle **2 documents**  :\n",
    "    1. votre notebook python\n",
    "    2. sa version `html`  \n",
    "- **dead-line du dépôt : au plus tard dimanche 28 février 2021, minuit.** \n",
    "\n",
    "\n",
    "- Les questions avec des $\\star$ sont de niveau Objectif 20.\n",
    "- La question avec $\\star\\star$ est de niveau Objectif 20 et dont la résolution prend un peu de temps.\n"
   ]
  },
  {
   "cell_type": "markdown",
   "metadata": {
    "toc": true
   },
   "source": [
    "<h1>Table des matières<span class=\"tocSkip\"></span></h1>\n",
    "<div class=\"toc\"><ul class=\"toc-item\"><li><span><a href=\"#Trois-consignes\" data-toc-modified-id=\"Trois-consignes-1\"><span class=\"toc-item-num\">1&nbsp;&nbsp;</span>Trois consignes</a></span></li><li><span><a href=\"#Exercice-0\" data-toc-modified-id=\"Exercice-0-2\"><span class=\"toc-item-num\">2&nbsp;&nbsp;</span>Exercice 0</a></span></li><li><span><a href=\"#Exercice-1\" data-toc-modified-id=\"Exercice-1-3\"><span class=\"toc-item-num\">3&nbsp;&nbsp;</span>Exercice 1</a></span><ul class=\"toc-item\"><li><span><a href=\"#Version-originale-de-France-IOI\" data-toc-modified-id=\"Version-originale-de-France-IOI-3.1\"><span class=\"toc-item-num\">3.1&nbsp;&nbsp;</span>Version originale de France-IOI</a></span><ul class=\"toc-item\"><li><span><a href=\"#Votre-réponse\" data-toc-modified-id=\"Votre-réponse-3.1.1\"><span class=\"toc-item-num\">3.1.1&nbsp;&nbsp;</span>Votre réponse</a></span></li></ul></li><li><span><a href=\"#Questions-supplémentaires\" data-toc-modified-id=\"Questions-supplémentaires-3.2\"><span class=\"toc-item-num\">3.2&nbsp;&nbsp;</span>Questions supplémentaires</a></span><ul class=\"toc-item\"><li><span><a href=\"#Votre-réponse-pour-1\" data-toc-modified-id=\"Votre-réponse-pour-1-3.2.1\"><span class=\"toc-item-num\">3.2.1&nbsp;&nbsp;</span>Votre réponse pour 1</a></span></li><li><span><a href=\"#Votre-réponse-pour-2\" data-toc-modified-id=\"Votre-réponse-pour-2-3.2.2\"><span class=\"toc-item-num\">3.2.2&nbsp;&nbsp;</span>Votre réponse pour 2</a></span></li></ul></li></ul></li><li><span><a href=\"#Exercice-2\" data-toc-modified-id=\"Exercice-2-4\"><span class=\"toc-item-num\">4&nbsp;&nbsp;</span>Exercice 2</a></span><ul class=\"toc-item\"><li><span><a href=\"#L'énoncé\" data-toc-modified-id=\"L'énoncé-4.1\"><span class=\"toc-item-num\">4.1&nbsp;&nbsp;</span>L'énoncé</a></span></li><li><span><a href=\"#Premières-questions\" data-toc-modified-id=\"Premières-questions-4.2\"><span class=\"toc-item-num\">4.2&nbsp;&nbsp;</span>Premières questions</a></span><ul class=\"toc-item\"><li><span><a href=\"#Vos-réponses\" data-toc-modified-id=\"Vos-réponses-4.2.1\"><span class=\"toc-item-num\">4.2.1&nbsp;&nbsp;</span>Vos réponses</a></span></li></ul></li><li><span><a href=\"#Questions-supplémentaires\" data-toc-modified-id=\"Questions-supplémentaires-4.3\"><span class=\"toc-item-num\">4.3&nbsp;&nbsp;</span>Questions supplémentaires</a></span><ul class=\"toc-item\"><li><span><a href=\"#Votre-réponse\" data-toc-modified-id=\"Votre-réponse-4.3.1\"><span class=\"toc-item-num\">4.3.1&nbsp;&nbsp;</span>Votre réponse</a></span></li><li><span><a href=\"#Votre-réponse\" data-toc-modified-id=\"Votre-réponse-4.3.2\"><span class=\"toc-item-num\">4.3.2&nbsp;&nbsp;</span>Votre réponse</a></span></li><li><span><a href=\"#Votre-réponse\" data-toc-modified-id=\"Votre-réponse-4.3.3\"><span class=\"toc-item-num\">4.3.3&nbsp;&nbsp;</span>Votre réponse</a></span></li></ul></li></ul></li><li><span><a href=\"#Exercice-3\" data-toc-modified-id=\"Exercice-3-5\"><span class=\"toc-item-num\">5&nbsp;&nbsp;</span>Exercice 3</a></span><ul class=\"toc-item\"><li><span><a href=\"#Enoncé\" data-toc-modified-id=\"Enoncé-5.1\"><span class=\"toc-item-num\">5.1&nbsp;&nbsp;</span>Enoncé</a></span></li><li><span><a href=\"#Questions\" data-toc-modified-id=\"Questions-5.2\"><span class=\"toc-item-num\">5.2&nbsp;&nbsp;</span>Questions</a></span></li><li><span><a href=\"#Vos-réponses\" data-toc-modified-id=\"Vos-réponses-5.3\"><span class=\"toc-item-num\">5.3&nbsp;&nbsp;</span>Vos réponses</a></span></li></ul></li><li><span><a href=\"#Exercice-0-:-fin\" data-toc-modified-id=\"Exercice-0-:-fin-6\"><span class=\"toc-item-num\">6&nbsp;&nbsp;</span>Exercice 0 : fin</a></span></li></ul></div>"
   ]
  },
  {
   "cell_type": "markdown",
   "metadata": {},
   "source": [
    "# Trois consignes\n",
    "\n",
    "1. Je lis la totalité du sujet une fois en entier **avant de commencer quoi que ce soit**.\n",
    "    - Je défini ainsi l'ordre de traitement qui _me_ convient.\n",
    "2. Je re-lis l'énoncé de l'exercice en entier **avant de le commencer**.\n",
    "    - Où cet exercice me conduit ?  Je comprend où les questions successives m'emmènent.\n",
    "    - Comment il m'y conduit ? J'identifie la progression des questions successives (et de mes réponses)  dans cet objectif.\n",
    "3. **Je ne gache pas mon oeuvre**\n",
    "    - Je consacre les 5 dernières minutes à relire en entier mon travail\n",
    "    - si besoin je peaufine très ponctuellement ce qui juste -- car je l'ai effectué sereinement,\n",
    "    - et je ne fini pas dans l'urgence l'exercice en cours en ajoutant de nouveaux traitements  qui seront très probablement insatisfaisants -- car je les écris dans la précipitation et que je ne pourrai pas les relire sereinement.\n",
    "\n"
   ]
  },
  {
   "cell_type": "code",
   "execution_count": null,
   "metadata": {},
   "outputs": [],
   "source": [
    "# Je vais devoir écrire des spécifications de fonctions avec des tableaux, des listes, ...\n",
    "from typing import List"
   ]
  },
  {
   "cell_type": "markdown",
   "metadata": {},
   "source": [
    "# Exercice 0\n",
    "\n",
    "Dans la cellule suivante, noter l'heure de début de votre travail."
   ]
  },
  {
   "cell_type": "markdown",
   "metadata": {},
   "source": [
    " "
   ]
  },
  {
   "cell_type": "markdown",
   "metadata": {},
   "source": [
    "# Exercice 1\n",
    "\n",
    "(Inspiré de France-IOI)\n",
    "\n",
    "## Version originale de France-IOI\n",
    "\n",
    "Écrivez un programme qui affiche une ligne de « X », un rectangle de « # », et un triangle de « @ ». Les deux formes doivent être creuses (remplies avec des espaces).\n",
    "\n",
    "L'entrée comporte quatre entiers, un par ligne :\n",
    "- le nombre de « X » de la ligne à afficher ;\n",
    "- le nombre de lignes du rectangle de « # » ;\n",
    "- le nombre de colonnes du rectangle ;\n",
    "- le nombre de lignes du triangle de « @ ».\n",
    "\n",
    "Vous devez afficher les trois formes successivement, avec une ligne blanche entre chaque forme, comme le montre l'exemple.\n",
    "\n",
    "Votre objectif doit être d'obtenir le code source le plus simple et clair possible, en le décomposant en fonctions."
   ]
  },
  {
   "cell_type": "markdown",
   "metadata": {},
   "source": [
    "**Exemple.**\n",
    "\n",
    "entrée :\n",
    "```\n",
    "15\n",
    "5\n",
    "12\n",
    "6\n",
    "```"
   ]
  },
  {
   "cell_type": "markdown",
   "metadata": {},
   "source": [
    "sortie :\n",
    "```\n",
    "XXXXXXXXXXXXXXX\n",
    "\n",
    "############\n",
    "#          #\n",
    "#          #\n",
    "#          #\n",
    "############\n",
    "\n",
    "@\n",
    "@@\n",
    "@ @\n",
    "@  @\n",
    "@   @\n",
    "@@@@@@\n",
    "```"
   ]
  },
  {
   "cell_type": "markdown",
   "metadata": {},
   "source": [
    "**Commentaires**\n",
    "\n",
    "Attention : le nombre de lignes ou de colonnes peut être égal à 1."
   ]
  },
  {
   "cell_type": "markdown",
   "metadata": {},
   "source": [
    "###  Votre réponse"
   ]
  },
  {
   "cell_type": "code",
   "execution_count": null,
   "metadata": {},
   "outputs": [],
   "source": []
  },
  {
   "cell_type": "markdown",
   "metadata": {},
   "source": [
    "## Questions supplémentaires\n",
    "\n",
    "Le prof insiste pour séparer les traitements des entrées-sorties alors que cet exercice ne fait que des sorties un peu structurées. Pfff...\n",
    "\n",
    "Je comprends que c'est important et j'écris ainsi :\n",
    "1. une solution qui utilise des tableaux 2D et **une** fonction d'affichage adaptée que j'appelle 3 fois.\n",
    "2. une solution qui utilise une chaîne de caractères et la fonction d'affichage prédéfinie de python (`print()`) que j'appelle 3 fois."
   ]
  },
  {
   "cell_type": "markdown",
   "metadata": {},
   "source": [
    "### Votre réponse pour 1"
   ]
  },
  {
   "cell_type": "code",
   "execution_count": null,
   "metadata": {},
   "outputs": [],
   "source": []
  },
  {
   "cell_type": "markdown",
   "metadata": {},
   "source": [
    "### Votre réponse pour 2"
   ]
  },
  {
   "cell_type": "code",
   "execution_count": null,
   "metadata": {},
   "outputs": [],
   "source": []
  },
  {
   "cell_type": "markdown",
   "metadata": {},
   "source": [
    "# Exercice 2\n",
    "\n",
    "On reprend l'exercice 8 du CT1 d'algorithmique du semestre 1 2020 qui est disponible sous le moodle d'Algorithmique (en pdf).\n",
    "\n",
    "\n",
    "## L'énoncé\n",
    "\n",
    "Reproduire dans ce notebook l'énoncé de cet exercice avec sa figure (vous pouvez effectuer une capture d'écran  adaptée), sa formule qui définit $S(n)$ et les questions 1 et 2."
   ]
  },
  {
   "cell_type": "markdown",
   "metadata": {},
   "source": [
    "## Premières questions \n",
    "\n",
    "Résoudre ces questions 1 et 2.\n",
    "\n",
    "### Vos réponses"
   ]
  },
  {
   "cell_type": "code",
   "execution_count": null,
   "metadata": {},
   "outputs": [],
   "source": []
  },
  {
   "cell_type": "markdown",
   "metadata": {},
   "source": [
    "## Questions supplémentaires\n",
    "\n",
    "1. Ecrire deux fonctions `f1` et `f2` qui calculent et retournent le nombre $S(n)$ de cubes selon les traitements des questions 1 et 2 respectivement.\n",
    "\n",
    "### Votre réponse"
   ]
  },
  {
   "cell_type": "code",
   "execution_count": null,
   "metadata": {},
   "outputs": [],
   "source": []
  },
  {
   "cell_type": "markdown",
   "metadata": {},
   "source": [
    "2. Que pensez-vous de la spécification de ces fonctions ?\n",
    "\n",
    "### Votre réponse"
   ]
  },
  {
   "cell_type": "code",
   "execution_count": null,
   "metadata": {},
   "outputs": [],
   "source": []
  },
  {
   "cell_type": "markdown",
   "metadata": {},
   "source": [
    "3. Vérifier que ces fonctions donnent les mêmes résultats pour un choix pertinent de valeurs de $n$. Justifier la pertinence de votre choix.  \n",
    "\n",
    "### Votre réponse"
   ]
  },
  {
   "cell_type": "markdown",
   "metadata": {},
   "source": [
    "# Exercice 3\n",
    "\n",
    "On s'inspire de l'exercice 9 du CT1 d'algorithmique du semestre 1 2020 qui est disponible sous le moodle d'Algorithmique (en pdf).\n",
    "\n",
    "\n",
    "## Enoncé\n",
    "\n",
    "On s'intéresse aux tableaux 1D de taille $n$ qui vérifient les deux conditions suivantes définies avec $k \\leq n$ :\n",
    "1. les $k$ premières valeurs du tableau sont des entiers de l'intervalle $[0, n]$\n",
    "2. les $n-k$ valeurs du tableau sont égales à -1.\n",
    "\n",
    "L'énoncé du CT1 donne un exemple d'un tel tableau pour $(n, k) = (8, 5).$ \n",
    "\n",
    "## Questions\n",
    "\n",
    "1. Ecrire un programme qui effectue le traitement suivant :\n",
    "    1. lire les deux entiers `n` et `k`, \n",
    "    2. lire successivement les `n` valeurs entières d'un tableau `t` de taille `n` (successivement : d'abord `t[0]`, puis `t[1]`, ...),\n",
    "    3. vérifier que le tableau `t` ainsi complété satisfait les deux conditions données plus haut.\n",
    "**Attention.** On comprend bien que le tableau `t` indiqué ici est un tableau 1D de taille `n` quelconque et non pas l'exemple de l'énoncé du CT1 -- aussi dénommé $t$.\n",
    "\n",
    "2. Modifier ce traitement pour que les étapes B et C s'effectuent simultanément. Ainsi, on vérifie la conformité de chaque lecture d'une nouvelle valeur de `t`. Une valeur \"non conforme\" provoque une nouvelle lecture -- et ce jusqu'à une lecture conforme. \n",
    "2. ($\\star$) Modifier le traitement précédent  pour que la lecture avec vérification simultanée de conformité de la valeur lue s'effectue **sans supposer l'ordre de lecture de l'étape B**, _ie._ sans supposer la lecture de `t[0]`, puis de `t[1]`, ...  Une valeur \"non conforme\" provoquera encore une nouvelle lecture -- et ce jusqu'à une lecture conforme.\n",
    "2. ($\\star$) Reprendre le traitement initial (question 1) en introduisant des fonctions adaptées.\n",
    "2. ($\\star\\star$) Reprendre les deux derniers traitements en introduisant des fonctions adaptées.\n",
    "\n"
   ]
  },
  {
   "cell_type": "markdown",
   "metadata": {},
   "source": [
    "## Vos réponses"
   ]
  },
  {
   "cell_type": "code",
   "execution_count": null,
   "metadata": {},
   "outputs": [],
   "source": []
  },
  {
   "cell_type": "markdown",
   "metadata": {},
   "source": [
    "# Exercice 0 : fin\n",
    "\n",
    "Noter l'heure de fin de votre travail.  \n",
    "Dans la cellule suivante, indiquez combien de temps vous avez consacré à ce travail.\n"
   ]
  },
  {
   "cell_type": "markdown",
   "metadata": {},
   "source": []
  }
 ],
 "metadata": {
  "kernelspec": {
   "display_name": "Python 3",
   "language": "python",
   "name": "python3"
  },
  "language_info": {
   "codemirror_mode": {
    "name": "ipython",
    "version": 3
   },
   "file_extension": ".py",
   "mimetype": "text/x-python",
   "name": "python",
   "nbconvert_exporter": "python",
   "pygments_lexer": "ipython3",
   "version": "3.7.7"
  },
  "toc": {
   "nav_menu": {},
   "number_sections": true,
   "sideBar": false,
   "skip_h1_title": false,
   "title_cell": "Table des matières",
   "title_sidebar": "TdM",
   "toc_cell": true,
   "toc_position": {},
   "toc_section_display": true,
   "toc_window_display": false
  }
 },
 "nbformat": 4,
 "nbformat_minor": 4
}
